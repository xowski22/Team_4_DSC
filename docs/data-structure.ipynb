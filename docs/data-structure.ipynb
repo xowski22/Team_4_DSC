{
 "cells": [
  {
   "cell_type": "markdown",
   "metadata": {
    "vscode": {
     "languageId": "raw"
    }
   },
   "source": [
    "# Product Recommendation Challenge - Data Structure Analysis\n",
    "\n",
    "## Overview\n",
    "This notebook analyzes the structure of the data files used in the Product Recommendation Challenge and identifies potential features that can be extracted for building recommendation systems.\n",
    "\n",
    "## Dataset Files Summary\n",
    "- **train.csv**: 2,543,147 user-item interactions\n",
    "- **test.csv**: 412,462 users requiring predictions  \n",
    "- **item_metadata.csv**: 3,819,722 product records with detailed metadata\n",
    "- **sample_submission.csv**: Expected output format (412,462 predictions)\n",
    "- **id_mappings.json**: Mapping between original and encoded IDs\n"
   ]
  },
  {
   "cell_type": "markdown",
   "metadata": {
    "vscode": {
     "languageId": "raw"
    }
   },
   "source": [
    "## 1. Training Data (train.csv)\n",
    "\n",
    "**Structure:**\n",
    "- **user_id**: Encoded user identifier (integer)\n",
    "- **item_id**: Encoded item identifier (integer) \n",
    "- **rating**: User's rating for the item (float, e.g., 5.0, 4.0)\n",
    "- **timestamp**: Unix timestamp of the interaction (milliseconds)\n",
    "\n",
    "**Sample:**\n",
    "```\n",
    "user_id,item_id,rating,timestamp\n",
    "0,7314,5.0,1353612262000\n",
    "0,15493,5.0,1370653034000  \n",
    "0,18817,4.0,1373668644000\n",
    "```\n",
    "\n",
    "**Potential Features:**\n",
    "- **User behavior patterns**: Rating distributions, average ratings per user\n",
    "- **Temporal features**: Time of day, day of week, seasonality patterns\n",
    "- **User engagement**: Number of ratings per user, rating frequency\n",
    "- **Item popularity**: Number of ratings per item, average item ratings\n",
    "- **Rating patterns**: Explicit feedback (ratings 1-5), rating variance\n",
    "- **Sequential patterns**: User's rating timeline, rating evolution\n",
    "- **Recency**: Time since last interaction, recent activity patterns\n"
   ]
  },
  {
   "cell_type": "markdown",
   "metadata": {
    "vscode": {
     "languageId": "raw"
    }
   },
   "source": [
    "## 2. Test Data (test.csv)\n",
    "\n",
    "**Structure:**\n",
    "- **user_id**: Encoded user identifier (integer)\n",
    "- **predictions**: Placeholder column (contains 0)\n",
    "\n",
    "**Sample:**\n",
    "```\n",
    "user_id,predictions\n",
    "0,0\n",
    "1,0\n",
    "3,0\n",
    "```\n",
    "\n",
    "**Purpose:**\n",
    "- Contains 412,462 users for whom we need to generate top-10 item recommendations\n",
    "- These are the users we need to predict for in the final submission\n",
    "- Notice some user IDs are missing (e.g., user 2 is not in the sample), indicating sparse user set\n",
    "\n",
    "**Potential Analysis:**\n",
    "- **User coverage**: Which users from training data appear in test set\n",
    "- **Cold start problem**: New users not seen in training data\n",
    "- **User activity levels**: Compare test users' historical activity in training data\n"
   ]
  },
  {
   "cell_type": "markdown",
   "metadata": {
    "vscode": {
     "languageId": "raw"
    }
   },
   "source": [
    "## 3. Item Metadata (item_metadata.csv)\n",
    "\n",
    "**Structure:** (15 columns total)\n",
    "1. **parent_asin**: Amazon Standard Identification Number (string)\n",
    "2. **main_category**: Primary product category (e.g., \"All Beauty\")\n",
    "3. **title**: Product title/name (string)\n",
    "4. **average_rating**: Average rating of the product (float)\n",
    "5. **rating_number**: Number of ratings received (float)\n",
    "6. **price**: Product price (can be None)\n",
    "7. **store**: Store/brand name\n",
    "8. **features**: Product features (list/array format)\n",
    "9. **description**: Product description (list/array format)\n",
    "10. **images**: Image data structure\n",
    "11. **categories**: Detailed category hierarchy (list)\n",
    "12. **image_count**: Number of product images (integer)\n",
    "13. **has_images**: Boolean indicator for image availability\n",
    "14. **image_urls**: URLs to product images\n",
    "15. **category**: Simplified category (may duplicate main_category)\n",
    "\n",
    "**Sample:**\n",
    "```\n",
    "parent_asin,main_category,title,average_rating,rating_number,price,store,features,description,...\n",
    "B01CUPMQZE,All Beauty,\"Howard LC0008 Leather Conditioner, 8-Ounce (4-Pack)\",4.8,10.0,None,Howard Products,[],...\n",
    "```\n"
   ]
  },
  {
   "cell_type": "markdown",
   "metadata": {
    "vscode": {
     "languageId": "raw"
    }
   },
   "source": [
    "**Potential Features from Item Metadata:**\n",
    "\n",
    "### Content-Based Features:\n",
    "- **Category features**: One-hot encoding of main_category, hierarchical category analysis\n",
    "- **Price features**: Price bins, price relative to category average, price availability\n",
    "- **Rating features**: Average rating, rating count, popularity metrics\n",
    "- **Text features**: TF-IDF from titles and descriptions, text embeddings\n",
    "- **Brand features**: Store/brand popularity, brand-category associations\n",
    "- **Visual features**: Image availability, image count as proxy for marketing investment\n",
    "\n",
    "### Advanced Features:\n",
    "- **Content similarity**: Item-to-item similarity based on text/categories\n",
    "- **Price positioning**: Expensive/cheap relative to similar items\n",
    "- **Category popularity**: Category trends and seasonal patterns\n",
    "- **Quality indicators**: Rating count as quality signal, rating-price correlation\n",
    "- **Feature density**: Number of filled metadata fields as quality indicator\n",
    "- **Text complexity**: Title/description length, feature list completeness\n"
   ]
  },
  {
   "cell_type": "markdown",
   "metadata": {
    "vscode": {
     "languageId": "raw"
    }
   },
   "source": [
    "## 4. Sample Submission (sample_submission.csv)\n",
    "\n",
    "**Structure:**\n",
    "- **user_id**: Encoded user identifier (integer)\n",
    "- **predictions**: Space-separated list of 10 recommended item IDs\n",
    "\n",
    "**Sample:**\n",
    "```\n",
    "user_id,predictions\n",
    "0,50727 25161 70745 64522 3476 5270 67819 59047 9548 20616\n",
    "1,72042 48322 70607 51973 13888 45212 47281 16753 65859 33584\n",
    "3,9089 12890 75010 54531 32877 16323 61681 47577 72231 49359\n",
    "```\n",
    "\n",
    "**Format Requirements:**\n",
    "- Exactly 10 item recommendations per user\n",
    "- Items must be space-separated in a single string\n",
    "- Order matters (first item is the top recommendation)\n",
    "- All item IDs must exist in the dataset\n",
    "\n",
    "**Evaluation Considerations:**\n",
    "- Likely evaluated using ranking metrics (MAP@10, NDCG@10, Precision@10)\n",
    "- Order of recommendations is important\n",
    "- Need to ensure recommended items are valid and available\n"
   ]
  },
  {
   "cell_type": "markdown",
   "metadata": {
    "vscode": {
     "languageId": "raw"
    }
   },
   "source": [
    "## 5. ID Mappings (id_mappings.json)\n",
    "\n",
    "**Structure:**\n",
    "- **user_mapping**: Dictionary mapping original user IDs to encoded integers\n",
    "- **item_mapping**: Dictionary mapping original item ASINs to encoded integers (likely)\n",
    "\n",
    "**Sample:**\n",
    "```json\n",
    "{\n",
    "  \"user_mapping\": {\n",
    "    \"AE22236AFRRSMQIKGG7TPTB75QEA\": 0,\n",
    "    \"AE2224FSUK5AV5R2USYXINUNTW7Q\": 1,\n",
    "    \"AE2226PENZTTCDKFGRTUCUX2NU2Q\": 2,\n",
    "    ...\n",
    "  },\n",
    "  \"item_mapping\": {\n",
    "    \"B01CUPMQZE\": 0,\n",
    "    \"B01EXAMPLE\": 1,\n",
    "    ...\n",
    "  }\n",
    "}\n",
    "```\n",
    "\n",
    "**Purpose:**\n",
    "- Links encoded IDs used in train/test data to original Amazon identifiers\n",
    "- Essential for mapping back to item metadata using parent_asin\n",
    "- Enables understanding of real-world product identifiers\n",
    "- Required to validate that recommended items exist in metadata\n"
   ]
  },
  {
   "cell_type": "markdown",
   "metadata": {
    "vscode": {
     "languageId": "raw"
    }
   },
   "source": [
    "## 6. Feature Engineering Strategy\n",
    "\n",
    "### Collaborative Filtering Features:\n",
    "1. **User-Item Matrix**: Sparse matrix of ratings for matrix factorization\n",
    "2. **User Similarities**: Cosine similarity, Pearson correlation between users\n",
    "3. **Item Similarities**: Item-to-item collaborative filtering based on user ratings\n",
    "4. **Matrix Factorization**: SVD, NMF, ALS to discover latent factors\n",
    "\n",
    "### Content-Based Features:\n",
    "1. **Item Profiles**: TF-IDF vectors from titles, descriptions, categories\n",
    "2. **Category Embeddings**: Learned representations of product categories  \n",
    "3. **Price Features**: Normalized prices, price bins, price-category relationships\n",
    "4. **Brand Features**: Brand popularity, brand-user affinity scores\n",
    "5. **Quality Indicators**: Average ratings, review counts, image availability\n",
    "\n",
    "### Hybrid Features:\n",
    "1. **User Profiles**: Aggregate user preferences from historical interactions\n",
    "2. **Temporal Patterns**: Seasonal trends, day-of-week effects, recency weights\n",
    "3. **Cross-Features**: User-category preferences, user-brand affinities\n",
    "4. **Cold Start Solutions**: Content-based recommendations for new users/items\n"
   ]
  },
  {
   "cell_type": "markdown",
   "metadata": {
    "vscode": {
     "languageId": "raw"
    }
   },
   "source": [
    "## 7. Data Quality Considerations\n",
    "\n",
    "### Potential Issues:\n",
    "1. **Sparsity**: With 2.5M interactions across millions of users and items, the user-item matrix will be very sparse\n",
    "2. **Cold Start**: New users and items with no historical data\n",
    "3. **Missing Values**: Price field contains \"None\" values, varying metadata completeness\n",
    "4. **Imbalanced Data**: Some users/items may have many more interactions than others\n",
    "5. **Temporal Drift**: User preferences may change over time\n",
    "\n",
    "### Data Integration Challenges:\n",
    "1. **ID Mapping**: Must correctly map encoded IDs to original ASINs for metadata lookup\n",
    "2. **Consistency**: Ensure all recommended items exist in both training data and metadata\n",
    "3. **Scale**: Large datasets require efficient processing and storage strategies\n",
    "4. **Feature Alignment**: Matching user-item interactions with item metadata\n",
    "\n",
    "### Recommended Preprocessing:\n",
    "1. **Data Validation**: Verify ID mappings and data consistency\n",
    "2. **Missing Value Handling**: Strategies for missing prices and metadata\n",
    "3. **Outlier Detection**: Identify and handle unusual rating patterns\n",
    "4. **Data Splitting**: Proper train/validation splits for model evaluation\n",
    "5. **Feature Scaling**: Normalize numerical features for consistent model training\n"
   ]
  },
  {
   "cell_type": "markdown",
   "metadata": {
    "vscode": {
     "languageId": "raw"
    }
   },
   "source": [
    "## 8. Modeling Approach Recommendations\n",
    "\n",
    "### Phase 1: Baseline Models\n",
    "1. **Popularity-Based**: Recommend most popular items globally or by category\n",
    "2. **User-Based CF**: Simple user-user collaborative filtering\n",
    "3. **Item-Based CF**: Item-item collaborative filtering using rating similarities\n",
    "\n",
    "### Phase 2: Advanced Collaborative Filtering\n",
    "1. **Matrix Factorization**: SVD, NMF with regularization\n",
    "2. **Deep Learning**: Neural collaborative filtering, autoencoders\n",
    "3. **Factorization Machines**: Capture feature interactions efficiently\n",
    "\n",
    "### Phase 3: Hybrid Systems\n",
    "1. **Content-Collaborative Hybrid**: Combine CF with item metadata\n",
    "2. **Ensemble Methods**: Weight multiple model predictions\n",
    "3. **Deep Hybrid Models**: Neural networks incorporating both CF and content features\n",
    "\n",
    "### Evaluation Strategy:\n",
    "1. **Offline Evaluation**: Split training data chronologically\n",
    "2. **Metrics**: MAP@10, NDCG@10, Precision@10, Recall@10\n",
    "3. **Cross-Validation**: User-based or time-based splits\n",
    "4. **A/B Testing Framework**: For production deployment\n",
    "\n",
    "## Next Steps\n",
    "1. Load and explore the data in detail (`eda.ipynb`)\n",
    "2. Implement data preprocessing pipeline\n",
    "3. Build baseline recommendation models\n",
    "4. Evaluate and iterate on advanced approaches\n"
   ]
  }
 ],
 "metadata": {
  "language_info": {
   "name": "python"
  }
 },
 "nbformat": 4,
 "nbformat_minor": 2
}
