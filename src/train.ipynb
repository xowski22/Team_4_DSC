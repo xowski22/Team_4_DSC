{
 "cells": [
  {
   "metadata": {},
   "cell_type": "markdown",
   "source": "## Part 1"
  },
  {
   "metadata": {},
   "cell_type": "markdown",
   "source": [
    "## Part 1: Popularity-Based Baseline\n",
    "\n",
    "Key Findings:\n",
    "- Most popular item has 28,303 interactions\n",
    "- Clear long-tail distribution with few highly popular items\n",
    "- Provides a solid baseline for cold-start users\n",
    "\n",
    "Strategy: Use popularity as fallback when collaborative filtering fails"
   ]
  },
  {
   "metadata": {},
   "cell_type": "code",
   "outputs": [],
   "execution_count": 22,
   "source": [
    "import numpy as np\n",
    "import pandas as pd\n",
    "import matplotlib.pyplot as plt\n",
    "\n",
    "plt.style.use(\"ggplot\")\n",
    "\n",
    "import sklearn\n",
    "from sklearn.decomposition import TruncatedSVD"
   ]
  },
  {
   "metadata": {},
   "cell_type": "code",
   "outputs": [
    {
     "data": {
      "text/plain": [
       "   user_id  item_id  rating      timestamp\n",
       "0        0     7314     5.0  1353612262000\n",
       "1        0    15493     5.0  1370653034000\n",
       "2        0    18817     4.0  1373668644000\n",
       "3        0    18251     4.0  1373669469000\n",
       "4        0    16199     1.0  1375136041000"
      ],
      "text/html": [
       "<div>\n",
       "<style scoped>\n",
       "    .dataframe tbody tr th:only-of-type {\n",
       "        vertical-align: middle;\n",
       "    }\n",
       "\n",
       "    .dataframe tbody tr th {\n",
       "        vertical-align: top;\n",
       "    }\n",
       "\n",
       "    .dataframe thead th {\n",
       "        text-align: right;\n",
       "    }\n",
       "</style>\n",
       "<table border=\"1\" class=\"dataframe\">\n",
       "  <thead>\n",
       "    <tr style=\"text-align: right;\">\n",
       "      <th></th>\n",
       "      <th>user_id</th>\n",
       "      <th>item_id</th>\n",
       "      <th>rating</th>\n",
       "      <th>timestamp</th>\n",
       "    </tr>\n",
       "  </thead>\n",
       "  <tbody>\n",
       "    <tr>\n",
       "      <th>0</th>\n",
       "      <td>0</td>\n",
       "      <td>7314</td>\n",
       "      <td>5.0</td>\n",
       "      <td>1353612262000</td>\n",
       "    </tr>\n",
       "    <tr>\n",
       "      <th>1</th>\n",
       "      <td>0</td>\n",
       "      <td>15493</td>\n",
       "      <td>5.0</td>\n",
       "      <td>1370653034000</td>\n",
       "    </tr>\n",
       "    <tr>\n",
       "      <th>2</th>\n",
       "      <td>0</td>\n",
       "      <td>18817</td>\n",
       "      <td>4.0</td>\n",
       "      <td>1373668644000</td>\n",
       "    </tr>\n",
       "    <tr>\n",
       "      <th>3</th>\n",
       "      <td>0</td>\n",
       "      <td>18251</td>\n",
       "      <td>4.0</td>\n",
       "      <td>1373669469000</td>\n",
       "    </tr>\n",
       "    <tr>\n",
       "      <th>4</th>\n",
       "      <td>0</td>\n",
       "      <td>16199</td>\n",
       "      <td>1.0</td>\n",
       "      <td>1375136041000</td>\n",
       "    </tr>\n",
       "  </tbody>\n",
       "</table>\n",
       "</div>"
      ]
     },
     "execution_count": 23,
     "metadata": {},
     "output_type": "execute_result"
    }
   ],
   "execution_count": 23,
   "source": [
    "import pandas as pd\n",
    "\n",
    "amazon_ratings = pd.read_csv('../data/train.csv')\n",
    "amazon_ratings = amazon_ratings.dropna()\n",
    "\n",
    "amazon_ratings.head()"
   ]
  },
  {
   "metadata": {},
   "cell_type": "code",
   "outputs": [
    {
     "name": "stdout",
     "output_type": "stream",
     "text": [
      "<class 'pandas.core.frame.DataFrame'>\n",
      "RangeIndex: 2543146 entries, 0 to 2543145\n",
      "Data columns (total 4 columns):\n",
      " #   Column     Dtype  \n",
      "---  ------     -----  \n",
      " 0   user_id    int64  \n",
      " 1   item_id    int64  \n",
      " 2   rating     float64\n",
      " 3   timestamp  int64  \n",
      "dtypes: float64(1), int64(3)\n",
      "memory usage: 77.6 MB\n"
     ]
    },
    {
     "data": {
      "text/plain": [
       "            user_id       item_id        rating     timestamp\n",
       "count  2.543146e+06  2.543146e+06  2.543146e+06  2.543146e+06\n",
       "mean   4.338789e+05  2.840569e+04  4.038812e+00  1.467106e+12\n",
       "std    2.509318e+05  1.796797e+04  1.365664e+00  8.242910e+10\n",
       "min    0.000000e+00  0.000000e+00  1.000000e+00  9.565885e+11\n",
       "25%    2.163772e+05  1.345100e+04  3.000000e+00  1.407054e+12\n",
       "50%    4.337430e+05  2.493100e+04  5.000000e+00  1.453042e+12\n",
       "75%    6.512078e+05  4.029700e+04  5.000000e+00  1.523213e+12\n",
       "max    8.682170e+05  7.783200e+04  5.000000e+00  1.694398e+12"
      ],
      "text/html": [
       "<div>\n",
       "<style scoped>\n",
       "    .dataframe tbody tr th:only-of-type {\n",
       "        vertical-align: middle;\n",
       "    }\n",
       "\n",
       "    .dataframe tbody tr th {\n",
       "        vertical-align: top;\n",
       "    }\n",
       "\n",
       "    .dataframe thead th {\n",
       "        text-align: right;\n",
       "    }\n",
       "</style>\n",
       "<table border=\"1\" class=\"dataframe\">\n",
       "  <thead>\n",
       "    <tr style=\"text-align: right;\">\n",
       "      <th></th>\n",
       "      <th>user_id</th>\n",
       "      <th>item_id</th>\n",
       "      <th>rating</th>\n",
       "      <th>timestamp</th>\n",
       "    </tr>\n",
       "  </thead>\n",
       "  <tbody>\n",
       "    <tr>\n",
       "      <th>count</th>\n",
       "      <td>2.543146e+06</td>\n",
       "      <td>2.543146e+06</td>\n",
       "      <td>2.543146e+06</td>\n",
       "      <td>2.543146e+06</td>\n",
       "    </tr>\n",
       "    <tr>\n",
       "      <th>mean</th>\n",
       "      <td>4.338789e+05</td>\n",
       "      <td>2.840569e+04</td>\n",
       "      <td>4.038812e+00</td>\n",
       "      <td>1.467106e+12</td>\n",
       "    </tr>\n",
       "    <tr>\n",
       "      <th>std</th>\n",
       "      <td>2.509318e+05</td>\n",
       "      <td>1.796797e+04</td>\n",
       "      <td>1.365664e+00</td>\n",
       "      <td>8.242910e+10</td>\n",
       "    </tr>\n",
       "    <tr>\n",
       "      <th>min</th>\n",
       "      <td>0.000000e+00</td>\n",
       "      <td>0.000000e+00</td>\n",
       "      <td>1.000000e+00</td>\n",
       "      <td>9.565885e+11</td>\n",
       "    </tr>\n",
       "    <tr>\n",
       "      <th>25%</th>\n",
       "      <td>2.163772e+05</td>\n",
       "      <td>1.345100e+04</td>\n",
       "      <td>3.000000e+00</td>\n",
       "      <td>1.407054e+12</td>\n",
       "    </tr>\n",
       "    <tr>\n",
       "      <th>50%</th>\n",
       "      <td>4.337430e+05</td>\n",
       "      <td>2.493100e+04</td>\n",
       "      <td>5.000000e+00</td>\n",
       "      <td>1.453042e+12</td>\n",
       "    </tr>\n",
       "    <tr>\n",
       "      <th>75%</th>\n",
       "      <td>6.512078e+05</td>\n",
       "      <td>4.029700e+04</td>\n",
       "      <td>5.000000e+00</td>\n",
       "      <td>1.523213e+12</td>\n",
       "    </tr>\n",
       "    <tr>\n",
       "      <th>max</th>\n",
       "      <td>8.682170e+05</td>\n",
       "      <td>7.783200e+04</td>\n",
       "      <td>5.000000e+00</td>\n",
       "      <td>1.694398e+12</td>\n",
       "    </tr>\n",
       "  </tbody>\n",
       "</table>\n",
       "</div>"
      ]
     },
     "execution_count": 24,
     "metadata": {},
     "output_type": "execute_result"
    }
   ],
   "execution_count": 24,
   "source": [
    "amazon_ratings.info()\n",
    "\n",
    "amazon_ratings.describe()"
   ]
  },
  {
   "metadata": {},
   "cell_type": "code",
   "outputs": [
    {
     "data": {
      "text/plain": [
       "(2543146, 4)"
      ]
     },
     "execution_count": 25,
     "metadata": {},
     "output_type": "execute_result"
    }
   ],
   "execution_count": 25,
   "source": "amazon_ratings.shape"
  },
  {
   "metadata": {},
   "cell_type": "code",
   "outputs": [
    {
     "data": {
      "text/plain": [
       "         rating\n",
       "item_id        \n",
       "20832     28303\n",
       "12595     22787\n",
       "12372     16378\n",
       "6864      15428\n",
       "33154     14792\n",
       "13451     13007\n",
       "7030      12306\n",
       "24931     12188\n",
       "18550     11628\n",
       "12104     11551"
      ],
      "text/html": [
       "<div>\n",
       "<style scoped>\n",
       "    .dataframe tbody tr th:only-of-type {\n",
       "        vertical-align: middle;\n",
       "    }\n",
       "\n",
       "    .dataframe tbody tr th {\n",
       "        vertical-align: top;\n",
       "    }\n",
       "\n",
       "    .dataframe thead th {\n",
       "        text-align: right;\n",
       "    }\n",
       "</style>\n",
       "<table border=\"1\" class=\"dataframe\">\n",
       "  <thead>\n",
       "    <tr style=\"text-align: right;\">\n",
       "      <th></th>\n",
       "      <th>rating</th>\n",
       "    </tr>\n",
       "    <tr>\n",
       "      <th>item_id</th>\n",
       "      <th></th>\n",
       "    </tr>\n",
       "  </thead>\n",
       "  <tbody>\n",
       "    <tr>\n",
       "      <th>20832</th>\n",
       "      <td>28303</td>\n",
       "    </tr>\n",
       "    <tr>\n",
       "      <th>12595</th>\n",
       "      <td>22787</td>\n",
       "    </tr>\n",
       "    <tr>\n",
       "      <th>12372</th>\n",
       "      <td>16378</td>\n",
       "    </tr>\n",
       "    <tr>\n",
       "      <th>6864</th>\n",
       "      <td>15428</td>\n",
       "    </tr>\n",
       "    <tr>\n",
       "      <th>33154</th>\n",
       "      <td>14792</td>\n",
       "    </tr>\n",
       "    <tr>\n",
       "      <th>13451</th>\n",
       "      <td>13007</td>\n",
       "    </tr>\n",
       "    <tr>\n",
       "      <th>7030</th>\n",
       "      <td>12306</td>\n",
       "    </tr>\n",
       "    <tr>\n",
       "      <th>24931</th>\n",
       "      <td>12188</td>\n",
       "    </tr>\n",
       "    <tr>\n",
       "      <th>18550</th>\n",
       "      <td>11628</td>\n",
       "    </tr>\n",
       "    <tr>\n",
       "      <th>12104</th>\n",
       "      <td>11551</td>\n",
       "    </tr>\n",
       "  </tbody>\n",
       "</table>\n",
       "</div>"
      ]
     },
     "execution_count": 26,
     "metadata": {},
     "output_type": "execute_result"
    }
   ],
   "execution_count": 26,
   "source": [
    "popular_products = pd.DataFrame(amazon_ratings.groupby('item_id')['rating'].count())\n",
    "most_popular = popular_products.sort_values('rating', ascending=False)\n",
    "most_popular.head(10)"
   ]
  },
  {
   "metadata": {},
   "cell_type": "code",
   "outputs": [
    {
     "data": {
      "text/plain": [
       "<Axes: xlabel='item_id'>"
      ]
     },
     "execution_count": 27,
     "metadata": {},
     "output_type": "execute_result"
    },
    {
     "data": {
      "text/plain": [
       "<Figure size 640x480 with 1 Axes>"
      ],
      "image/png": "[encoded data removed]"
     },
     "metadata": {},
     "output_type": "display_data"
    }
   ],
   "execution_count": 27,
   "source": "most_popular.head(30).plot(kind = \"bar\")"
  },
  {
   "metadata": {},
   "cell_type": "markdown",
   "source": "# Part 2"
  },
  {
   "metadata": {},
   "cell_type": "markdown",
   "source": [
    "## Part 2: Collaborative Filtering with SVD\n",
    "\n",
    "Approach:\n",
    "- Sample 10k interactions due to memory constraints\n",
    "- Use TruncatedSVD (10 components) to reduce dimensionality and noise\n",
    "- Compute item-item correlations in reduced space\n",
    "- High correlation threshold (0.90) ensures strong similarity\n",
    "\n",
    "Matrixes used:\n",
    "- Utility matrix\n",
    "- SVD reduce\n",
    "- Correlation matrix\n",
    "\n",
    "Limitation: Small sample size may miss important patterns from full dataset (need to find a fix to fit more data)"
   ]
  },
  {
   "metadata": {
    "ExecuteTime": {
     "end_time": "2025-06-26T19:43:23.212751Z",
     "start_time": "2025-06-26T19:43:23.210493Z"
    }
   },
   "cell_type": "code",
   "source": [
    "# Using only 10k samples limits learning potential, due to restrains in memery capacity\n",
    "amazon_ratings1 = amazon_ratings.head(10000)"
   ],
   "outputs": [],
   "execution_count": 28
  },
  {
   "metadata": {
    "ExecuteTime": {
     "end_time": "2025-06-26T19:43:23.427118Z",
     "start_time": "2025-06-26T19:43:23.283080Z"
    }
   },
   "cell_type": "code",
   "source": [
    "ratings_utility_matrix = amazon_ratings1.pivot_table(values='rating', index='user_id', columns='item_id', fill_value=0)\n",
    "ratings_utility_matrix.head()"
   ],
   "outputs": [
    {
     "data": {
      "text/plain": [
       "item_id  39     58     64     104    224    314    448    540    608    668    \\\n",
       "user_id                                                                         \n",
       "0          0.0    0.0    0.0    0.0    0.0    0.0    0.0    0.0    0.0    0.0   \n",
       "1          0.0    0.0    0.0    0.0    0.0    0.0    0.0    0.0    0.0    0.0   \n",
       "2          0.0    0.0    0.0    0.0    0.0    0.0    0.0    0.0    0.0    0.0   \n",
       "3          0.0    0.0    0.0    0.0    0.0    0.0    0.0    0.0    0.0    0.0   \n",
       "4          0.0    0.0    0.0    0.0    0.0    0.0    0.0    0.0    0.0    0.0   \n",
       "\n",
       "item_id  ...  77678  77706  77718  77730  77761  77767  77775  77789  77821  \\\n",
       "user_id  ...                                                                  \n",
       "0        ...    0.0    0.0    0.0    0.0    0.0    0.0    0.0    0.0    0.0   \n",
       "1        ...    0.0    0.0    0.0    0.0    0.0    0.0    0.0    0.0    0.0   \n",
       "2        ...    0.0    0.0    0.0    0.0    0.0    0.0    0.0    0.0    0.0   \n",
       "3        ...    0.0    0.0    0.0    0.0    0.0    0.0    0.0    0.0    0.0   \n",
       "4        ...    0.0    0.0    0.0    0.0    0.0    0.0    0.0    0.0    0.0   \n",
       "\n",
       "item_id  77825  \n",
       "user_id         \n",
       "0          0.0  \n",
       "1          0.0  \n",
       "2          0.0  \n",
       "3          0.0  \n",
       "4          0.0  \n",
       "\n",
       "[5 rows x 4069 columns]"
      ],
      "text/html": [
       "<div>\n",
       "<style scoped>\n",
       "    .dataframe tbody tr th:only-of-type {\n",
       "        vertical-align: middle;\n",
       "    }\n",
       "\n",
       "    .dataframe tbody tr th {\n",
       "        vertical-align: top;\n",
       "    }\n",
       "\n",
       "    .dataframe thead th {\n",
       "        text-align: right;\n",
       "    }\n",
       "</style>\n",
       "<table border=\"1\" class=\"dataframe\">\n",
       "  <thead>\n",
       "    <tr style=\"text-align: right;\">\n",
       "      <th>item_id</th>\n",
       "      <th>39</th>\n",
       "      <th>58</th>\n",
       "      <th>64</th>\n",
       "      <th>104</th>\n",
       "      <th>224</th>\n",
       "      <th>314</th>\n",
       "      <th>448</th>\n",
       "      <th>540</th>\n",
       "      <th>608</th>\n",
       "      <th>668</th>\n",
       "      <th>...</th>\n",
       "      <th>77678</th>\n",
       "      <th>77706</th>\n",
       "      <th>77718</th>\n",
       "      <th>77730</th>\n",
       "      <th>77761</th>\n",
       "      <th>77767</th>\n",
       "      <th>77775</th>\n",
       "      <th>77789</th>\n",
       "      <th>77821</th>\n",
       "      <th>77825</th>\n",
       "    </tr>\n",
       "    <tr>\n",
       "      <th>user_id</th>\n",
       "      <th></th>\n",
       "      <th></th>\n",
       "      <th></th>\n",
       "      <th></th>\n",
       "      <th></th>\n",
       "      <th></th>\n",
       "      <th></th>\n",
       "      <th></th>\n",
       "      <th></th>\n",
       "      <th></th>\n",
       "      <th></th>\n",
       "      <th></th>\n",
       "      <th></th>\n",
       "      <th></th>\n",
       "      <th></th>\n",
       "      <th></th>\n",
       "      <th></th>\n",
       "      <th></th>\n",
       "      <th></th>\n",
       "      <th></th>\n",
       "      <th></th>\n",
       "    </tr>\n",
       "  </thead>\n",
       "  <tbody>\n",
       "    <tr>\n",
       "      <th>0</th>\n",
       "      <td>0.0</td>\n",
       "      <td>0.0</td>\n",
       "      <td>0.0</td>\n",
       "      <td>0.0</td>\n",
       "      <td>0.0</td>\n",
       "      <td>0.0</td>\n",
       "      <td>0.0</td>\n",
       "      <td>0.0</td>\n",
       "      <td>0.0</td>\n",
       "      <td>0.0</td>\n",
       "      <td>...</td>\n",
       "      <td>0.0</td>\n",
       "      <td>0.0</td>\n",
       "      <td>0.0</td>\n",
       "      <td>0.0</td>\n",
       "      <td>0.0</td>\n",
       "      <td>0.0</td>\n",
       "      <td>0.0</td>\n",
       "      <td>0.0</td>\n",
       "      <td>0.0</td>\n",
       "      <td>0.0</td>\n",
       "    </tr>\n",
       "    <tr>\n",
       "      <th>1</th>\n",
       "      <td>0.0</td>\n",
       "      <td>0.0</td>\n",
       "      <td>0.0</td>\n",
       "      <td>0.0</td>\n",
       "      <td>0.0</td>\n",
       "      <td>0.0</td>\n",
       "      <td>0.0</td>\n",
       "      <td>0.0</td>\n",
       "      <td>0.0</td>\n",
       "      <td>0.0</td>\n",
       "      <td>...</td>\n",
       "      <td>0.0</td>\n",
       "      <td>0.0</td>\n",
       "      <td>0.0</td>\n",
       "      <td>0.0</td>\n",
       "      <td>0.0</td>\n",
       "      <td>0.0</td>\n",
       "      <td>0.0</td>\n",
       "      <td>0.0</td>\n",
       "      <td>0.0</td>\n",
       "      <td>0.0</td>\n",
       "    </tr>\n",
       "    <tr>\n",
       "      <th>2</th>\n",
       "      <td>0.0</td>\n",
       "      <td>0.0</td>\n",
       "      <td>0.0</td>\n",
       "      <td>0.0</td>\n",
       "      <td>0.0</td>\n",
       "      <td>0.0</td>\n",
       "      <td>0.0</td>\n",
       "      <td>0.0</td>\n",
       "      <td>0.0</td>\n",
       "      <td>0.0</td>\n",
       "      <td>...</td>\n",
       "      <td>0.0</td>\n",
       "      <td>0.0</td>\n",
       "      <td>0.0</td>\n",
       "      <td>0.0</td>\n",
       "      <td>0.0</td>\n",
       "      <td>0.0</td>\n",
       "      <td>0.0</td>\n",
       "      <td>0.0</td>\n",
       "      <td>0.0</td>\n",
       "      <td>0.0</td>\n",
       "    </tr>\n",
       "    <tr>\n",
       "      <th>3</th>\n",
       "      <td>0.0</td>\n",
       "      <td>0.0</td>\n",
       "      <td>0.0</td>\n",
       "      <td>0.0</td>\n",
       "      <td>0.0</td>\n",
       "      <td>0.0</td>\n",
       "      <td>0.0</td>\n",
       "      <td>0.0</td>\n",
       "      <td>0.0</td>\n",
       "      <td>0.0</td>\n",
       "      <td>...</td>\n",
       "      <td>0.0</td>\n",
       "      <td>0.0</td>\n",
       "      <td>0.0</td>\n",
       "      <td>0.0</td>\n",
       "      <td>0.0</td>\n",
       "      <td>0.0</td>\n",
       "      <td>0.0</td>\n",
       "      <td>0.0</td>\n",
       "      <td>0.0</td>\n",
       "      <td>0.0</td>\n",
       "    </tr>\n",
       "    <tr>\n",
       "      <th>4</th>\n",
       "      <td>0.0</td>\n",
       "      <td>0.0</td>\n",
       "      <td>0.0</td>\n",
       "      <td>0.0</td>\n",
       "      <td>0.0</td>\n",
       "      <td>0.0</td>\n",
       "      <td>0.0</td>\n",
       "      <td>0.0</td>\n",
       "      <td>0.0</td>\n",
       "      <td>0.0</td>\n",
       "      <td>...</td>\n",
       "      <td>0.0</td>\n",
       "      <td>0.0</td>\n",
       "      <td>0.0</td>\n",
       "      <td>0.0</td>\n",
       "      <td>0.0</td>\n",
       "      <td>0.0</td>\n",
       "      <td>0.0</td>\n",
       "      <td>0.0</td>\n",
       "      <td>0.0</td>\n",
       "      <td>0.0</td>\n",
       "    </tr>\n",
       "  </tbody>\n",
       "</table>\n",
       "<p>5 rows × 4069 columns</p>\n",
       "</div>"
      ]
     },
     "execution_count": 29,
     "metadata": {},
     "output_type": "execute_result"
    }
   ],
   "execution_count": 29
  },
  {
   "metadata": {
    "ExecuteTime": {
     "end_time": "2025-06-26T19:43:23.789310Z",
     "start_time": "2025-06-26T19:43:23.785924Z"
    }
   },
   "cell_type": "code",
   "source": "ratings_utility_matrix.shape",
   "outputs": [
    {
     "data": {
      "text/plain": [
       "(3347, 4069)"
      ]
     },
     "execution_count": 30,
     "metadata": {},
     "output_type": "execute_result"
    }
   ],
   "execution_count": 30
  },
  {
   "metadata": {
    "ExecuteTime": {
     "end_time": "2025-06-26T19:43:23.889228Z",
     "start_time": "2025-06-26T19:43:23.876355Z"
    }
   },
   "cell_type": "code",
   "source": [
    "X = ratings_utility_matrix.T\n",
    "X.head()"
   ],
   "outputs": [
    {
     "data": {
      "text/plain": [
       "user_id  0     1     2     3     4     5     6     7     8     9     ...  \\\n",
       "item_id                                                              ...   \n",
       "39        0.0   0.0   0.0   0.0   0.0   0.0   0.0   0.0   0.0   0.0  ...   \n",
       "58        0.0   0.0   0.0   0.0   0.0   0.0   0.0   0.0   0.0   0.0  ...   \n",
       "64        0.0   0.0   0.0   0.0   0.0   0.0   0.0   0.0   0.0   0.0  ...   \n",
       "104       0.0   0.0   0.0   0.0   0.0   0.0   0.0   0.0   0.0   0.0  ...   \n",
       "224       0.0   0.0   0.0   0.0   0.0   0.0   0.0   0.0   0.0   0.0  ...   \n",
       "\n",
       "user_id  3337  3338  3339  3340  3341  3342  3343  3344  3345  3346  \n",
       "item_id                                                              \n",
       "39        0.0   0.0   0.0   0.0   0.0   0.0   0.0   0.0   0.0   0.0  \n",
       "58        0.0   0.0   0.0   0.0   0.0   0.0   0.0   0.0   0.0   0.0  \n",
       "64        0.0   0.0   0.0   0.0   0.0   0.0   0.0   0.0   0.0   0.0  \n",
       "104       0.0   0.0   0.0   0.0   0.0   0.0   0.0   0.0   0.0   0.0  \n",
       "224       0.0   0.0   0.0   0.0   0.0   0.0   0.0   0.0   0.0   0.0  \n",
       "\n",
       "[5 rows x 3347 columns]"
      ],
      "text/html": [
       "<div>\n",
       "<style scoped>\n",
       "    .dataframe tbody tr th:only-of-type {\n",
       "        vertical-align: middle;\n",
       "    }\n",
       "\n",
       "    .dataframe tbody tr th {\n",
       "        vertical-align: top;\n",
       "    }\n",
       "\n",
       "    .dataframe thead th {\n",
       "        text-align: right;\n",
       "    }\n",
       "</style>\n",
       "<table border=\"1\" class=\"dataframe\">\n",
       "  <thead>\n",
       "    <tr style=\"text-align: right;\">\n",
       "      <th>user_id</th>\n",
       "      <th>0</th>\n",
       "      <th>1</th>\n",
       "      <th>2</th>\n",
       "      <th>3</th>\n",
       "      <th>4</th>\n",
       "      <th>5</th>\n",
       "      <th>6</th>\n",
       "      <th>7</th>\n",
       "      <th>8</th>\n",
       "      <th>9</th>\n",
       "      <th>...</th>\n",
       "      <th>3337</th>\n",
       "      <th>3338</th>\n",
       "      <th>3339</th>\n",
       "      <th>3340</th>\n",
       "      <th>3341</th>\n",
       "      <th>3342</th>\n",
       "      <th>3343</th>\n",
       "      <th>3344</th>\n",
       "      <th>3345</th>\n",
       "      <th>3346</th>\n",
       "    </tr>\n",
       "    <tr>\n",
       "      <th>item_id</th>\n",
       "      <th></th>\n",
       "      <th></th>\n",
       "      <th></th>\n",
       "      <th></th>\n",
       "      <th></th>\n",
       "      <th></th>\n",
       "      <th></th>\n",
       "      <th></th>\n",
       "      <th></th>\n",
       "      <th></th>\n",
       "      <th></th>\n",
       "      <th></th>\n",
       "      <th></th>\n",
       "      <th></th>\n",
       "      <th></th>\n",
       "      <th></th>\n",
       "      <th></th>\n",
       "      <th></th>\n",
       "      <th></th>\n",
       "      <th></th>\n",
       "      <th></th>\n",
       "    </tr>\n",
       "  </thead>\n",
       "  <tbody>\n",
       "    <tr>\n",
       "      <th>39</th>\n",
       "      <td>0.0</td>\n",
       "      <td>0.0</td>\n",
       "      <td>0.0</td>\n",
       "      <td>0.0</td>\n",
       "      <td>0.0</td>\n",
       "      <td>0.0</td>\n",
       "      <td>0.0</td>\n",
       "      <td>0.0</td>\n",
       "      <td>0.0</td>\n",
       "      <td>0.0</td>\n",
       "      <td>...</td>\n",
       "      <td>0.0</td>\n",
       "      <td>0.0</td>\n",
       "      <td>0.0</td>\n",
       "      <td>0.0</td>\n",
       "      <td>0.0</td>\n",
       "      <td>0.0</td>\n",
       "      <td>0.0</td>\n",
       "      <td>0.0</td>\n",
       "      <td>0.0</td>\n",
       "      <td>0.0</td>\n",
       "    </tr>\n",
       "    <tr>\n",
       "      <th>58</th>\n",
       "      <td>0.0</td>\n",
       "      <td>0.0</td>\n",
       "      <td>0.0</td>\n",
       "      <td>0.0</td>\n",
       "      <td>0.0</td>\n",
       "      <td>0.0</td>\n",
       "      <td>0.0</td>\n",
       "      <td>0.0</td>\n",
       "      <td>0.0</td>\n",
       "      <td>0.0</td>\n",
       "      <td>...</td>\n",
       "      <td>0.0</td>\n",
       "      <td>0.0</td>\n",
       "      <td>0.0</td>\n",
       "      <td>0.0</td>\n",
       "      <td>0.0</td>\n",
       "      <td>0.0</td>\n",
       "      <td>0.0</td>\n",
       "      <td>0.0</td>\n",
       "      <td>0.0</td>\n",
       "      <td>0.0</td>\n",
       "    </tr>\n",
       "    <tr>\n",
       "      <th>64</th>\n",
       "      <td>0.0</td>\n",
       "      <td>0.0</td>\n",
       "      <td>0.0</td>\n",
       "      <td>0.0</td>\n",
       "      <td>0.0</td>\n",
       "      <td>0.0</td>\n",
       "      <td>0.0</td>\n",
       "      <td>0.0</td>\n",
       "      <td>0.0</td>\n",
       "      <td>0.0</td>\n",
       "      <td>...</td>\n",
       "      <td>0.0</td>\n",
       "      <td>0.0</td>\n",
       "      <td>0.0</td>\n",
       "      <td>0.0</td>\n",
       "      <td>0.0</td>\n",
       "      <td>0.0</td>\n",
       "      <td>0.0</td>\n",
       "      <td>0.0</td>\n",
       "      <td>0.0</td>\n",
       "      <td>0.0</td>\n",
       "    </tr>\n",
       "    <tr>\n",
       "      <th>104</th>\n",
       "      <td>0.0</td>\n",
       "      <td>0.0</td>\n",
       "      <td>0.0</td>\n",
       "      <td>0.0</td>\n",
       "      <td>0.0</td>\n",
       "      <td>0.0</td>\n",
       "      <td>0.0</td>\n",
       "      <td>0.0</td>\n",
       "      <td>0.0</td>\n",
       "      <td>0.0</td>\n",
       "      <td>...</td>\n",
       "      <td>0.0</td>\n",
       "      <td>0.0</td>\n",
       "      <td>0.0</td>\n",
       "      <td>0.0</td>\n",
       "      <td>0.0</td>\n",
       "      <td>0.0</td>\n",
       "      <td>0.0</td>\n",
       "      <td>0.0</td>\n",
       "      <td>0.0</td>\n",
       "      <td>0.0</td>\n",
       "    </tr>\n",
       "    <tr>\n",
       "      <th>224</th>\n",
       "      <td>0.0</td>\n",
       "      <td>0.0</td>\n",
       "      <td>0.0</td>\n",
       "      <td>0.0</td>\n",
       "      <td>0.0</td>\n",
       "      <td>0.0</td>\n",
       "      <td>0.0</td>\n",
       "      <td>0.0</td>\n",
       "      <td>0.0</td>\n",
       "      <td>0.0</td>\n",
       "      <td>...</td>\n",
       "      <td>0.0</td>\n",
       "      <td>0.0</td>\n",
       "      <td>0.0</td>\n",
       "      <td>0.0</td>\n",
       "      <td>0.0</td>\n",
       "      <td>0.0</td>\n",
       "      <td>0.0</td>\n",
       "      <td>0.0</td>\n",
       "      <td>0.0</td>\n",
       "      <td>0.0</td>\n",
       "    </tr>\n",
       "  </tbody>\n",
       "</table>\n",
       "<p>5 rows × 3347 columns</p>\n",
       "</div>"
      ]
     },
     "execution_count": 31,
     "metadata": {},
     "output_type": "execute_result"
    }
   ],
   "execution_count": 31
  },
  {
   "metadata": {
    "ExecuteTime": {
     "end_time": "2025-06-26T19:43:24.281660Z",
     "start_time": "2025-06-26T19:43:24.279069Z"
    }
   },
   "cell_type": "code",
   "source": "X.shape",
   "outputs": [
    {
     "data": {
      "text/plain": [
       "(4069, 3347)"
      ]
     },
     "execution_count": 32,
     "metadata": {},
     "output_type": "execute_result"
    }
   ],
   "execution_count": 32
  },
  {
   "metadata": {
    "ExecuteTime": {
     "end_time": "2025-06-26T19:43:25.344754Z",
     "start_time": "2025-06-26T19:43:25.342950Z"
    }
   },
   "cell_type": "code",
   "source": "X1 = X",
   "outputs": [],
   "execution_count": 33
  },
  {
   "metadata": {
    "ExecuteTime": {
     "end_time": "2025-06-26T19:43:26.468053Z",
     "start_time": "2025-06-26T19:43:25.602164Z"
    }
   },
   "cell_type": "code",
   "source": [
    "SVD = TruncatedSVD(n_components=10)\n",
    "decomposed_matrix = SVD.fit_transform(X)\n",
    "decomposed_matrix.shape"
   ],
   "outputs": [
    {
     "data": {
      "text/plain": [
       "(4069, 10)"
      ]
     },
     "execution_count": 34,
     "metadata": {},
     "output_type": "execute_result"
    }
   ],
   "execution_count": 34
  },
  {
   "metadata": {
    "ExecuteTime": {
     "end_time": "2025-06-26T19:43:27.373178Z",
     "start_time": "2025-06-26T19:43:27.277871Z"
    }
   },
   "cell_type": "code",
   "source": [
    "correlation_matrix = np.corrcoef(decomposed_matrix)\n",
    "correlation_matrix.shape"
   ],
   "outputs": [
    {
     "data": {
      "text/plain": [
       "(4069, 4069)"
      ]
     },
     "execution_count": 35,
     "metadata": {},
     "output_type": "execute_result"
    }
   ],
   "execution_count": 35
  },
  {
   "metadata": {
    "ExecuteTime": {
     "end_time": "2025-06-26T19:43:27.422936Z",
     "start_time": "2025-06-26T19:43:27.420118Z"
    }
   },
   "cell_type": "code",
   "source": "X.index[99]",
   "outputs": [
    {
     "data": {
      "text/plain": [
       "np.int64(3703)"
      ]
     },
     "execution_count": 36,
     "metadata": {},
     "output_type": "execute_result"
    }
   ],
   "execution_count": 36
  },
  {
   "metadata": {
    "ExecuteTime": {
     "end_time": "2025-06-26T19:43:27.489063Z",
     "start_time": "2025-06-26T19:43:27.486592Z"
    }
   },
   "cell_type": "code",
   "source": [
    "i=3703\n",
    "\n",
    "product_names = list(X.index)\n",
    "product_ID = product_names.index(i)\n",
    "product_ID"
   ],
   "outputs": [
    {
     "data": {
      "text/plain": [
       "99"
      ]
     },
     "execution_count": 37,
     "metadata": {},
     "output_type": "execute_result"
    }
   ],
   "execution_count": 37
  },
  {
   "metadata": {
    "ExecuteTime": {
     "end_time": "2025-06-26T19:43:27.539216Z",
     "start_time": "2025-06-26T19:43:27.536538Z"
    }
   },
   "cell_type": "code",
   "source": [
    "correlation_product_ID = correlation_matrix[product_ID]\n",
    "correlation_product_ID.shape"
   ],
   "outputs": [
    {
     "data": {
      "text/plain": [
       "(4069,)"
      ]
     },
     "execution_count": 38,
     "metadata": {},
     "output_type": "execute_result"
    }
   ],
   "execution_count": 38
  },
  {
   "metadata": {
    "ExecuteTime": {
     "end_time": "2025-06-26T19:43:27.591177Z",
     "start_time": "2025-06-26T19:43:27.588321Z"
    }
   },
   "cell_type": "code",
   "source": [
    "Recommend = list(X.index[correlation_product_ID > 0.90])\n",
    "\n",
    "Recommend.remove(i) \n",
    "\n",
    "Recommend[0:9]"
   ],
   "outputs": [
    {
     "data": {
      "text/plain": [
       "[3734, 4108, 4734, 6839, 12009, 12023, 13126, 16324, 20005]"
      ]
     },
     "execution_count": 39,
     "metadata": {},
     "output_type": "execute_result"
    }
   ],
   "execution_count": 39
  },
  {
   "metadata": {
    "ExecuteTime": {
     "end_time": "2025-06-26T19:43:27.640679Z",
     "start_time": "2025-06-26T19:43:27.633800Z"
    }
   },
   "cell_type": "code",
   "source": [
    "def get_user_recommendations(user_id, num_recommendations=10):\n",
    "\n",
    "    if user_id not in ratings_utility_matrix.index:\n",
    "        return most_popular.head(num_recommendations).index.tolist()\n",
    "\n",
    "    user_ratings = ratings_utility_matrix.loc[user_id]\n",
    "    purchased_products = user_ratings[user_ratings > 0].index.tolist()\n",
    "    \n",
    "    if len(purchased_products) == 0:\n",
    "        return most_popular.head(num_recommendations).index.tolist()\n",
    "\n",
    "\n",
    "    recommendation_scores = {}\n",
    "    \n",
    "    for product in purchased_products:\n",
    "        if product in X.index:\n",
    "            product_idx = list(X.index).index(product)\n",
    "\n",
    "            product_correlations = correlation_matrix[product_idx]\n",
    "            \n",
    "            # Add scores for correlated products\n",
    "            for i, correlation in enumerate(product_correlations):\n",
    "                recommended_product = X.index[i]\n",
    "                \n",
    "                # Skip products already purchased\n",
    "                if recommended_product not in purchased_products:\n",
    "                    if recommended_product not in recommendation_scores:\n",
    "                        recommendation_scores[recommended_product] = 0\n",
    "                    recommendation_scores[recommended_product] += correlation\n",
    "    \n",
    "    # Sort recommendations by score\n",
    "    sorted_recommendations = sorted(recommendation_scores.items(), \n",
    "                                  key=lambda x: x[1], \n",
    "                                  reverse=True)\n",
    "\n",
    "    top_recommendations = [product for product, score in sorted_recommendations[:num_recommendations]]\n",
    "\n",
    "    if len(top_recommendations) < num_recommendations:\n",
    "        popular_products_list = most_popular.index.tolist()\n",
    "        for product in popular_products_list:\n",
    "            if product not in top_recommendations and product not in purchased_products:\n",
    "                top_recommendations.append(product)\n",
    "                if len(top_recommendations) >= num_recommendations:\n",
    "                    break\n",
    "    \n",
    "    return top_recommendations[:num_recommendations]\n",
    "\n",
    "def get_detailed_user_recommendations(user_id, num_recommendations=10):\n",
    "    \n",
    "    result = {\n",
    "        'user_id': user_id,\n",
    "        'recommendations': [],\n",
    "        'user_profile': {},\n",
    "        'recommendation_method': ''\n",
    "    }\n",
    "    \n",
    "    # Check if user exists\n",
    "    if user_id not in ratings_utility_matrix.index:\n",
    "        result['recommendation_method'] = 'popularity_based'\n",
    "        result['recommendations'] = most_popular.head(num_recommendations).index.tolist()\n",
    "        result['user_profile'] = {'status': 'new_user', 'purchase_count': 0}\n",
    "        return result\n",
    "    \n",
    "    # Analyze user profile\n",
    "    user_ratings = ratings_utility_matrix.loc[user_id]\n",
    "    purchased_products = user_ratings[user_ratings > 0]\n",
    "    \n",
    "    result['user_profile'] = {\n",
    "        'status': 'existing_user',\n",
    "        'purchase_count': len(purchased_products),\n",
    "        'average_rating': purchased_products.mean(),\n",
    "        'purchased_products': purchased_products.index.tolist()\n",
    "    }\n",
    "    \n",
    "    if len(purchased_products) == 0:\n",
    "        result['recommendation_method'] = 'popularity_based'\n",
    "        result['recommendations'] = most_popular.head(num_recommendations).index.tolist()\n",
    "        return result\n",
    "    \n",
    "    # Collaborative filtering recommendations\n",
    "    result['recommendation_method'] = 'collaborative_filtering'\n",
    "    result['recommendations'] = get_user_recommendations(user_id, num_recommendations)\n",
    "    \n",
    "    return result\n",
    "\n",
    "def demonstrate_recommendations():\n",
    "    # Get a few sample user IDs from the dataset\n",
    "    sample_users = ratings_utility_matrix.index[:5].tolist()\n",
    "    \n",
    "    print(\"=== Product Recommendation System Demo ===\\n\")\n",
    "    \n",
    "    for user_id in sample_users:\n",
    "        print(f\"Recommendations for User: {user_id}\")\n",
    "        print(\"-\" * 50)\n",
    "        \n",
    "        recommendations = get_detailed_user_recommendations(user_id)\n",
    "        \n",
    "        print(f\"User Status: {recommendations['user_profile']['status']}\")\n",
    "        print(f\"Purchase Count: {recommendations['user_profile']['purchase_count']}\")\n",
    "        print(f\"Recommendation Method: {recommendations['recommendation_method']}\")\n",
    "        print(f\"Top 10 Recommendations: {recommendations['recommendations']}\")\n",
    "        print(\"\\n\")"
   ],
   "outputs": [],
   "execution_count": 40
  },
  {
   "metadata": {
    "ExecuteTime": {
     "end_time": "2025-06-26T19:43:27.713174Z",
     "start_time": "2025-06-26T19:43:27.683161Z"
    }
   },
   "cell_type": "code",
   "source": "get_user_recommendations(3)",
   "outputs": [
    {
     "data": {
      "text/plain": [
       "[np.int64(41408),\n",
       " np.int64(16815),\n",
       " np.int64(34399),\n",
       " np.int64(43709),\n",
       " np.int64(28612),\n",
       " np.int64(22922),\n",
       " np.int64(55086),\n",
       " np.int64(57156),\n",
       " np.int64(54270),\n",
       " np.int64(20220)]"
      ]
     },
     "execution_count": 41,
     "metadata": {},
     "output_type": "execute_result"
    }
   ],
   "execution_count": 41
  },
  {
   "metadata": {},
   "cell_type": "markdown",
   "source": [
    "## Hybrid Recommendation Strategy\n",
    "\n",
    "Algorithm Logic:\n",
    "- User exists + has history: Use collaborative filtering\n",
    "- User exists + no history: Fall back to popularity\n",
    "- New user: Use popularity baseline\n",
    "- Insufficient CF recommendations: Fill with popular items\n",
    "\n",
    "Strengths:\n",
    "- Handles all user scenarios gracefully\n",
    "- Combines personalization with proven popular items\n",
    "- Scalable modular design\n",
    "\n",
    "Weaknesses:\n",
    "- Limited by small training sample\n",
    "- No rating weighting (treats all interactions equally)\n",
    "- Static correlation threshold"
   ]
  },
  {
   "metadata": {
    "ExecuteTime": {
     "end_time": "2025-06-26T19:43:42.323088Z",
     "start_time": "2025-06-26T19:43:27.782161Z"
    }
   },
   "cell_type": "code",
   "source": [
    "test_users = pd.read_csv('../data/test.csv')\n",
    "\n",
    "predictions = []\n",
    "\n",
    "for user_id in test_users['user_id'].tolist():\n",
    "    prediction = get_user_recommendations(user_id)\n",
    "    final_prediction = []\n",
    "    for item_id in prediction:\n",
    "        final_prediction.append(int(item_id))\n",
    "    predictions.append(final_prediction)\n",
    "\n",
    "submission = pd.DataFrame({\n",
    "    'user_id': test_users['user_id'].tolist(), \n",
    "    'predictions': [' '.join(map(str, pred)) for pred in predictions]\n",
    "})\n",
    "submission.to_csv(\"submission.csv\", index=False)\n",
    "print(f\"Submission saved: {submission.shape[0]:,} predictions\")\n"
   ],
   "outputs": [
    {
     "ename": "KeyboardInterrupt",
     "evalue": "",
     "output_type": "error",
     "traceback": [
      "\u001B[31m---------------------------------------------------------------------------\u001B[39m",
      "\u001B[31mKeyboardInterrupt\u001B[39m                         Traceback (most recent call last)",
      "\u001B[36mCell\u001B[39m\u001B[36m \u001B[39m\u001B[32mIn[42]\u001B[39m\u001B[32m, line 6\u001B[39m\n\u001B[32m      3\u001B[39m predictions = []\n\u001B[32m      5\u001B[39m \u001B[38;5;28;01mfor\u001B[39;00m user_id \u001B[38;5;129;01min\u001B[39;00m test_users[\u001B[33m'\u001B[39m\u001B[33muser_id\u001B[39m\u001B[33m'\u001B[39m].tolist():\n\u001B[32m----> \u001B[39m\u001B[32m6\u001B[39m     prediction = \u001B[43mget_user_recommendations\u001B[49m\u001B[43m(\u001B[49m\u001B[43muser_id\u001B[49m\u001B[43m)\u001B[49m\n\u001B[32m      7\u001B[39m     final_prediction = []\n\u001B[32m      8\u001B[39m     \u001B[38;5;28;01mfor\u001B[39;00m item_id \u001B[38;5;129;01min\u001B[39;00m prediction:\n",
      "\u001B[36mCell\u001B[39m\u001B[36m \u001B[39m\u001B[32mIn[40]\u001B[39m\u001B[32m, line 36\u001B[39m, in \u001B[36mget_user_recommendations\u001B[39m\u001B[34m(user_id, num_recommendations)\u001B[39m\n\u001B[32m     33\u001B[39m                 recommendation_scores[recommended_product] += correlation\n\u001B[32m     35\u001B[39m \u001B[38;5;66;03m# Sort recommendations by score\u001B[39;00m\n\u001B[32m---> \u001B[39m\u001B[32m36\u001B[39m sorted_recommendations = \u001B[38;5;28;43msorted\u001B[39;49m\u001B[43m(\u001B[49m\u001B[43mrecommendation_scores\u001B[49m\u001B[43m.\u001B[49m\u001B[43mitems\u001B[49m\u001B[43m(\u001B[49m\u001B[43m)\u001B[49m\u001B[43m,\u001B[49m\u001B[43m \u001B[49m\n\u001B[32m     37\u001B[39m \u001B[43m                              \u001B[49m\u001B[43mkey\u001B[49m\u001B[43m=\u001B[49m\u001B[38;5;28;43;01mlambda\u001B[39;49;00m\u001B[43m \u001B[49m\u001B[43mx\u001B[49m\u001B[43m:\u001B[49m\u001B[43m \u001B[49m\u001B[43mx\u001B[49m\u001B[43m[\u001B[49m\u001B[32;43m1\u001B[39;49m\u001B[43m]\u001B[49m\u001B[43m,\u001B[49m\u001B[43m \u001B[49m\n\u001B[32m     38\u001B[39m \u001B[43m                              \u001B[49m\u001B[43mreverse\u001B[49m\u001B[43m=\u001B[49m\u001B[38;5;28;43;01mTrue\u001B[39;49;00m\u001B[43m)\u001B[49m\n\u001B[32m     40\u001B[39m top_recommendations = [product \u001B[38;5;28;01mfor\u001B[39;00m product, score \u001B[38;5;129;01min\u001B[39;00m sorted_recommendations[:num_recommendations]]\n\u001B[32m     42\u001B[39m \u001B[38;5;28;01mif\u001B[39;00m \u001B[38;5;28mlen\u001B[39m(top_recommendations) < num_recommendations:\n",
      "\u001B[36mCell\u001B[39m\u001B[36m \u001B[39m\u001B[32mIn[40]\u001B[39m\u001B[32m, line 37\u001B[39m, in \u001B[36mget_user_recommendations.<locals>.<lambda>\u001B[39m\u001B[34m(x)\u001B[39m\n\u001B[32m     33\u001B[39m                 recommendation_scores[recommended_product] += correlation\n\u001B[32m     35\u001B[39m \u001B[38;5;66;03m# Sort recommendations by score\u001B[39;00m\n\u001B[32m     36\u001B[39m sorted_recommendations = \u001B[38;5;28msorted\u001B[39m(recommendation_scores.items(), \n\u001B[32m---> \u001B[39m\u001B[32m37\u001B[39m                               key=\u001B[38;5;28;01mlambda\u001B[39;00m x: x[\u001B[32m1\u001B[39m], \n\u001B[32m     38\u001B[39m                               reverse=\u001B[38;5;28;01mTrue\u001B[39;00m)\n\u001B[32m     40\u001B[39m top_recommendations = [product \u001B[38;5;28;01mfor\u001B[39;00m product, score \u001B[38;5;129;01min\u001B[39;00m sorted_recommendations[:num_recommendations]]\n\u001B[32m     42\u001B[39m \u001B[38;5;28;01mif\u001B[39;00m \u001B[38;5;28mlen\u001B[39m(top_recommendations) < num_recommendations:\n",
      "\u001B[31mKeyboardInterrupt\u001B[39m: "
     ]
    }
   ],
   "execution_count": 42
  },
  {
   "metadata": {},
   "cell_type": "markdown",
   "source": "# Part 3"
  },
  {
   "metadata": {},
   "cell_type": "markdown",
   "source": [
    "## Part 3: Content-Based Enhancement with NLP\n",
    "\n",
    "Objective: Add product similarity based on descriptions to improve recommendations\n",
    "\n",
    "NLP Pipeline:\n",
    "- TF-IDF vectorization of product descriptions\n",
    "- Dimensionality reduction with SVD\n",
    "- K-means clustering to group similar products\n",
    "- UMAP for 2D visualization"
   ]
  },
  {
   "metadata": {},
   "cell_type": "code",
   "source": [
    "from sklearn.feature_extraction.text import TfidfVectorizer, CountVectorizer\n",
    "from sklearn.neighbors import NearestNeighbors\n",
    "from sklearn.cluster import KMeans\n",
    "from sklearn.metrics import adjusted_rand_score"
   ],
   "outputs": [],
   "execution_count": null
  },
  {
   "metadata": {},
   "cell_type": "code",
   "source": [
    "product_descriptions = pd.read_csv('../data/item_metadata_filtered.csv')\n",
    "product_descriptions.shape"
   ],
   "outputs": [],
   "execution_count": null
  },
  {
   "metadata": {},
   "cell_type": "code",
   "source": [
    "product_descriptions = product_descriptions.dropna()\n",
    "product_descriptions.shape"
   ],
   "outputs": [],
   "execution_count": null
  },
  {
   "metadata": {},
   "cell_type": "code",
   "source": [
    "product_descriptions1 = product_descriptions.head(500)\n",
    "# product_descriptions1.iloc[:,1]\n",
    "product_descriptions1[\"description\"].head(10)\n"
   ],
   "outputs": [],
   "execution_count": null
  },
  {
   "metadata": {},
   "cell_type": "code",
   "source": [
    "vectorizer = TfidfVectorizer(stop_words='english')\n",
    "X1 = vectorizer.fit_transform(product_descriptions1[\"description\"])\n",
    "X1"
   ],
   "outputs": [],
   "execution_count": null
  },
  {
   "metadata": {},
   "cell_type": "code",
   "source": [
    "X=X1\n",
    "\n",
    "kmeans = KMeans(n_clusters = 10, init = 'k-means++', max_iter=1000000, n_init=100)\n",
    "y_kmeans = kmeans.fit_predict(X)\n",
    "plt.plot(y_kmeans, \".\")\n",
    "plt.show()"
   ],
   "outputs": [],
   "execution_count": null
  },
  {
   "metadata": {},
   "cell_type": "markdown",
   "source": [
    "## Clustering Results Analysis\n",
    "\n",
    "Optimal Clusters: Determined by silhouette score maximization\n",
    "- Silhouette score measures cluster quality (higher = better)\n",
    "- Tests k=2 to k=14 to find sweet spot\n",
    "- UMAP visualization shows cluster separation\n",
    "\n",
    "Content Clusters: Each cluster represents products with similar descriptions\n",
    "- Can recommend items from same cluster\n",
    "- Useful for discovering related products beyond interaction history"
   ]
  },
  {
   "metadata": {},
   "cell_type": "code",
   "source": [
    "# -----------------------------------------------------------\n",
    "# 1.  Vectorise and put every document on the unit sphere\n",
    "# -----------------------------------------------------------\n",
    "from sklearn.feature_extraction.text import TfidfVectorizer\n",
    "from sklearn.preprocessing import normalize\n",
    "from sklearn.decomposition import TruncatedSVD\n",
    "from sklearn.cluster import KMeans\n",
    "from sklearn.metrics import silhouette_score\n",
    "import matplotlib.pyplot as plt\n",
    "import umap.umap_ as umap\n",
    "import numpy as np\n",
    "import pandas as pd\n",
    "\n",
    "# ── load / prepare your text column ─────────────────────────\n",
    "texts = product_descriptions1[\"description\"].fillna(\"\").tolist()\n",
    "\n",
    "vec = TfidfVectorizer(stop_words=\"english\", min_df=3)\n",
    "X   = vec.fit_transform(texts)          # sparse (n_samples × n_terms)\n",
    "\n",
    "# L2-normalise so that ||row||₂ = 1  →  cosine ∝ Euclidean\n",
    "X_unit = normalize(X, norm=\"l2\", copy=False)\n",
    "\n",
    "# -----------------------------------------------------------\n",
    "# 2.  Reduce dimensionality with truncated SVD (LSA)\n",
    "# -----------------------------------------------------------\n",
    "svd = TruncatedSVD(n_components=100, random_state=0)\n",
    "X_red = svd.fit_transform(X_unit)       # dense (n_samples × 100)\n",
    "\n",
    "# -----------------------------------------------------------\n",
    "# 3.  Pick the optimal k by silhouette on the reduced space\n",
    "# -----------------------------------------------------------\n",
    "k_range = range(2, 15)\n",
    "sil_scores = []\n",
    "\n",
    "for k in k_range:\n",
    "    km = KMeans(n_clusters=k, init=\"k-means++\", n_init=20, random_state=0)\n",
    "    labels = km.fit_predict(X_red)\n",
    "    sil_scores.append(silhouette_score(X_red, labels))\n",
    "\n",
    "best_k = k_range[int(np.argmax(sil_scores))]\n",
    "print(f\"best k = {best_k}  (silhouette = {max(sil_scores):.3f})\")\n",
    "\n",
    "# -----------------------------------------------------------\n",
    "# 4.  Final K-means with the chosen k\n",
    "# -----------------------------------------------------------\n",
    "kmeans  = KMeans(n_clusters=best_k, init=\"k-means++\", n_init=50, random_state=0)\n",
    "labels  = kmeans.fit_predict(X_red)\n",
    "\n",
    "# optional: renormalise centroids (keeps them on the unit sphere)\n",
    "kmeans.cluster_centers_ = normalize(kmeans.cluster_centers_, norm=\"l2\")\n",
    "\n",
    "# -----------------------------------------------------------\n",
    "# 5.  2-D visualisation with UMAP\n",
    "# -----------------------------------------------------------\n",
    "embedding = umap.UMAP(random_state=0).fit_transform(X_red)\n",
    "plt.scatter(embedding[:, 0], embedding[:, 1], c=labels, s=10)\n",
    "plt.title(f\"K-means (cosine proxy), k = {best_k}\")\n",
    "plt.show()"
   ],
   "outputs": [],
   "execution_count": null
  },
  {
   "metadata": {},
   "cell_type": "code",
   "source": [
    "def print_cluster(i):\n",
    "    print(\"Cluster %d:\" % i),\n",
    "    for ind in order_centroids[i, :10]:\n",
    "        print(' %s' % terms[ind]),\n",
    "    print"
   ],
   "outputs": [],
   "execution_count": null
  },
  {
   "metadata": {},
   "cell_type": "code",
   "source": [
    "true_k = 10\n",
    "\n",
    "print(\"Top terms per cluster:\")\n",
    "order_centroids = kmeans.cluster_centers_.argsort()[:, ::-1]\n",
    "terms = vec.get_feature_names_out()\n",
    "for i in range(true_k):\n",
    "    print_cluster(i)"
   ],
   "outputs": [],
   "execution_count": null
  },
  {
   "metadata": {},
   "cell_type": "code",
   "source": [
    "def show_recommendations(product):\n",
    "    Y = vec.transform([product])\n",
    "    Y_unit = normalize(Y, norm=\"l2\", copy=False)\n",
    "    Y_red = svd.transform(Y_unit)\n",
    "\n",
    "    prediction = kmeans.predict(Y_red)\n",
    "    print_cluster(prediction[0])"
   ],
   "outputs": [],
   "execution_count": null
  },
  {
   "metadata": {},
   "cell_type": "code",
   "source": [
    "def print_cluster(i):\n",
    "    print(\"Cluster %d:\" % i),\n",
    "    for ind in order_centroids[i, :10]:\n",
    "        print(' %s' % terms[ind]),\n",
    "    print"
   ],
   "outputs": [],
   "execution_count": null
  },
  {
   "metadata": {},
   "cell_type": "code",
   "source": "show_recommendations(\"blue whale\")",
   "outputs": [],
   "execution_count": null
  },
  {
   "metadata": {},
   "cell_type": "code",
   "source": [
    "def hybrid_cf_popularity(user_id, num_recommendations=10):\n",
    "\n",
    "    collab_recs = get_user_recommendations(user_id, num_recommendations * 2)\n",
    "    popular_recs = most_popular.head(num_recommendations * 2).index.tolist()\n",
    "\n",
    "    recommendation_scores = {}\n",
    "\n",
    "    for i, product in enumerate(collab_recs):\n",
    "        score = (len(collab_recs) - i) / len(collab_recs) * 0.6\n",
    "        recommendation_scores[product] = recommendation_scores.get(product, 0) + score\n",
    "\n",
    "    for i, product in enumerate(popular_recs):\n",
    "        score = (len(popular_recs) - i) / len(popular_recs) * 0.4\n",
    "        recommendation_scores[product] = recommendation_scores.get(product, 0) + score\n",
    "\n",
    "    final_recs = sorted(recommendation_scores.items(), key=lambda x: x[1], reverse=True)\n",
    "    return [product for product, score in final_recs[:num_recommendations]]"
   ],
   "outputs": [],
   "execution_count": null
  },
  {
   "metadata": {},
   "cell_type": "markdown",
   "source": [
    "## Final Hybrid Model: CF + Popularity\n",
    "\n",
    "Weighting Strategy:\n",
    "- Collaborative Filtering: 60% weight (personalization)\n",
    "- Popularity: 40% weight (proven appeal)\n",
    "\n",
    "Benefits:\n",
    "- Balances personalization with broad appeal\n",
    "- Reduces risk of niche-only recommendations\n",
    "- Maintains diversity in recommendation set\n",
    "\n",
    "Production Considerations:\n",
    "- Could add content-based component (product clusters)\n",
    "- Time-based weighting for recent interactions\n",
    "- Category-specific popularity scores"
   ]
  },
  {
   "metadata": {},
   "cell_type": "code",
   "source": [
    "test_users = pd.read_csv('../data/test.csv')\n",
    "predictions = []\n",
    "\n",
    "print(f\"Generating CF+Popularity predictions for {len(test_users)} users...\")\n",
    "\n",
    "for i, user_id in enumerate(test_users['user_id'].tolist()):\n",
    "    hybrid_recs = hybrid_cf_popularity(user_id, 10)\n",
    "\n",
    "    # Convert to integers\n",
    "    final_prediction = []\n",
    "    for item_id in hybrid_recs:\n",
    "        try:\n",
    "            final_prediction.append(int(item_id))\n",
    "        except:\n",
    "            continue\n",
    "\n",
    "    # Fill with popular products if needed\n",
    "    while len(final_prediction) < 10:\n",
    "        for popular_item in most_popular.index:\n",
    "            if int(popular_item) not in final_prediction:\n",
    "                final_prediction.append(int(popular_item))\n",
    "                break\n",
    "\n",
    "    predictions.append(final_prediction[:10])\n",
    "\n",
    "submission = pd.DataFrame({\n",
    "    'user_id': test_users['user_id'].tolist(),\n",
    "    'predictions': [' '.join(map(str, pred)) for pred in predictions]\n",
    "})\n",
    "\n",
    "submission.to_csv(\"submission.csv\", index=False)\n",
    "print(f\"\\nSubmission saved!\")\n",
    "print(f\"File: submission.csv\")\n",
    "print(f\"Shape: {submission.shape}\")"
   ],
   "outputs": [],
   "execution_count": null
  },
  {
   "metadata": {},
   "cell_type": "markdown",
   "source": [
    "## Model Performance Summary\n",
    "\n",
    "Architecture: Hybrid Collaborative Filtering + Popularity\n",
    "- Data: 10k sample interactions (0.4% of full dataset)\n",
    "- Method: SVD-based item similarity with popularity fallback\n",
    "- Output: Top 10 item recommendations per user\n",
    "\n",
    "Strengths:\n",
    "- Handles all user types (new, existing, inactive)\n",
    "- Combines personalization\n",
    "- Efficient with SVD reduction\n",
    "- No cold-start problem (all test users in training)\n",
    "\n",
    "Limitations:\n",
    "- Small sample size misses patterns\n",
    "- Static correlation threshold (0.90)\n",
    "- Content features underutilized"
   ]
  },
  {
   "metadata": {},
   "cell_type": "markdown",
   "source": [
    "### Modeling Implementation Challenges\n",
    "1. Memory Constraints\n",
    "- Problem: 2.5M interactions too large to fit in memory\n",
    "- Solution: 10k sample + TruncatedSVD for efficiency\n",
    "2. Personalization vs Popularity Balance\n",
    "- Challenge: Pure CF may recommend too niche items\n",
    "- Solution: Weighted hybrid model 60/40\n",
    "3. Feature Engineering Complexity\n",
    "- Challenge: Rich metadata requires NLP processing\n",
    "- Solution: TF-IDF + K-means clustering"
   ]
  }
 ],
 "metadata": {
  "kernelspec": {
   "display_name": "base",
   "language": "python",
   "name": "python3"
  },
  "language_info": {
   "codemirror_mode": {
    "name": "ipython",
    "version": 3
   },
   "file_extension": ".py",
   "mimetype": "text/x-python",
   "name": "python",
   "nbconvert_exporter": "python",
   "pygments_lexer": "ipython3",
   "version": "3.10.15"
  }
 },
 "nbformat": 4,
 "nbformat_minor": 2
}
