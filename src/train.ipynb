{
 "cells": [
  {
   "metadata": {
    "ExecuteTime": {
     "end_time": "2025-06-24T19:46:35.772880Z",
     "start_time": "2025-06-24T19:46:35.770172Z"
    }
   },
   "cell_type": "code",
   "source": [
    "import numpy as np\n",
    "import pandas as pd\n",
    "import matplotlib.pyplot as plt\n",
    "\n",
    "# %matplotlib inline\n",
    "plt.style.use(\"ggplot\")\n",
    "\n",
    "import sklearn\n",
    "from sklearn.decomposition import TruncatedSVD"
   ],
   "outputs": [],
   "execution_count": 112
  },
  {
   "metadata": {
    "ExecuteTime": {
     "end_time": "2025-06-24T19:46:36.162800Z",
     "start_time": "2025-06-24T19:46:35.798863Z"
    }
   },
   "cell_type": "code",
   "source": [
    "import pandas as pd\n",
    "\n",
    "amazon_ratings = pd.read_csv('../data/train.csv')\n",
    "amazon_ratings = amazon_ratings.dropna()\n",
    "\n",
    "amazon_ratings.head()"
   ],
   "outputs": [
    {
     "data": {
      "text/plain": [
       "   user_id  item_id  rating      timestamp\n",
       "0        0     7314     5.0  1353612262000\n",
       "1        0    15493     5.0  1370653034000\n",
       "2        0    18817     4.0  1373668644000\n",
       "3        0    18251     4.0  1373669469000\n",
       "4        0    16199     1.0  1375136041000"
      ],
      "text/html": [
       "<div>\n",
       "<style scoped>\n",
       "    .dataframe tbody tr th:only-of-type {\n",
       "        vertical-align: middle;\n",
       "    }\n",
       "\n",
       "    .dataframe tbody tr th {\n",
       "        vertical-align: top;\n",
       "    }\n",
       "\n",
       "    .dataframe thead th {\n",
       "        text-align: right;\n",
       "    }\n",
       "</style>\n",
       "<table border=\"1\" class=\"dataframe\">\n",
       "  <thead>\n",
       "    <tr style=\"text-align: right;\">\n",
       "      <th></th>\n",
       "      <th>user_id</th>\n",
       "      <th>item_id</th>\n",
       "      <th>rating</th>\n",
       "      <th>timestamp</th>\n",
       "    </tr>\n",
       "  </thead>\n",
       "  <tbody>\n",
       "    <tr>\n",
       "      <th>0</th>\n",
       "      <td>0</td>\n",
       "      <td>7314</td>\n",
       "      <td>5.0</td>\n",
       "      <td>1353612262000</td>\n",
       "    </tr>\n",
       "    <tr>\n",
       "      <th>1</th>\n",
       "      <td>0</td>\n",
       "      <td>15493</td>\n",
       "      <td>5.0</td>\n",
       "      <td>1370653034000</td>\n",
       "    </tr>\n",
       "    <tr>\n",
       "      <th>2</th>\n",
       "      <td>0</td>\n",
       "      <td>18817</td>\n",
       "      <td>4.0</td>\n",
       "      <td>1373668644000</td>\n",
       "    </tr>\n",
       "    <tr>\n",
       "      <th>3</th>\n",
       "      <td>0</td>\n",
       "      <td>18251</td>\n",
       "      <td>4.0</td>\n",
       "      <td>1373669469000</td>\n",
       "    </tr>\n",
       "    <tr>\n",
       "      <th>4</th>\n",
       "      <td>0</td>\n",
       "      <td>16199</td>\n",
       "      <td>1.0</td>\n",
       "      <td>1375136041000</td>\n",
       "    </tr>\n",
       "  </tbody>\n",
       "</table>\n",
       "</div>"
      ]
     },
     "execution_count": 113,
     "metadata": {},
     "output_type": "execute_result"
    }
   ],
   "execution_count": 113
  },
  {
   "metadata": {
    "ExecuteTime": {
     "end_time": "2025-06-24T19:46:36.345209Z",
     "start_time": "2025-06-24T19:46:36.207792Z"
    }
   },
   "cell_type": "code",
   "source": [
    "amazon_ratings.info()\n",
    "\n",
    "amazon_ratings.describe()"
   ],
   "outputs": [
    {
     "name": "stdout",
     "output_type": "stream",
     "text": [
      "<class 'pandas.core.frame.DataFrame'>\n",
      "RangeIndex: 2543146 entries, 0 to 2543145\n",
      "Data columns (total 4 columns):\n",
      " #   Column     Dtype  \n",
      "---  ------     -----  \n",
      " 0   user_id    int64  \n",
      " 1   item_id    int64  \n",
      " 2   rating     float64\n",
      " 3   timestamp  int64  \n",
      "dtypes: float64(1), int64(3)\n",
      "memory usage: 77.6 MB\n"
     ]
    },
    {
     "data": {
      "text/plain": [
       "            user_id       item_id        rating     timestamp\n",
       "count  2.543146e+06  2.543146e+06  2.543146e+06  2.543146e+06\n",
       "mean   4.338789e+05  2.840569e+04  4.038812e+00  1.467106e+12\n",
       "std    2.509318e+05  1.796797e+04  1.365664e+00  8.242910e+10\n",
       "min    0.000000e+00  0.000000e+00  1.000000e+00  9.565885e+11\n",
       "25%    2.163772e+05  1.345100e+04  3.000000e+00  1.407054e+12\n",
       "50%    4.337430e+05  2.493100e+04  5.000000e+00  1.453042e+12\n",
       "75%    6.512078e+05  4.029700e+04  5.000000e+00  1.523213e+12\n",
       "max    8.682170e+05  7.783200e+04  5.000000e+00  1.694398e+12"
      ],
      "text/html": [
       "<div>\n",
       "<style scoped>\n",
       "    .dataframe tbody tr th:only-of-type {\n",
       "        vertical-align: middle;\n",
       "    }\n",
       "\n",
       "    .dataframe tbody tr th {\n",
       "        vertical-align: top;\n",
       "    }\n",
       "\n",
       "    .dataframe thead th {\n",
       "        text-align: right;\n",
       "    }\n",
       "</style>\n",
       "<table border=\"1\" class=\"dataframe\">\n",
       "  <thead>\n",
       "    <tr style=\"text-align: right;\">\n",
       "      <th></th>\n",
       "      <th>user_id</th>\n",
       "      <th>item_id</th>\n",
       "      <th>rating</th>\n",
       "      <th>timestamp</th>\n",
       "    </tr>\n",
       "  </thead>\n",
       "  <tbody>\n",
       "    <tr>\n",
       "      <th>count</th>\n",
       "      <td>2.543146e+06</td>\n",
       "      <td>2.543146e+06</td>\n",
       "      <td>2.543146e+06</td>\n",
       "      <td>2.543146e+06</td>\n",
       "    </tr>\n",
       "    <tr>\n",
       "      <th>mean</th>\n",
       "      <td>4.338789e+05</td>\n",
       "      <td>2.840569e+04</td>\n",
       "      <td>4.038812e+00</td>\n",
       "      <td>1.467106e+12</td>\n",
       "    </tr>\n",
       "    <tr>\n",
       "      <th>std</th>\n",
       "      <td>2.509318e+05</td>\n",
       "      <td>1.796797e+04</td>\n",
       "      <td>1.365664e+00</td>\n",
       "      <td>8.242910e+10</td>\n",
       "    </tr>\n",
       "    <tr>\n",
       "      <th>min</th>\n",
       "      <td>0.000000e+00</td>\n",
       "      <td>0.000000e+00</td>\n",
       "      <td>1.000000e+00</td>\n",
       "      <td>9.565885e+11</td>\n",
       "    </tr>\n",
       "    <tr>\n",
       "      <th>25%</th>\n",
       "      <td>2.163772e+05</td>\n",
       "      <td>1.345100e+04</td>\n",
       "      <td>3.000000e+00</td>\n",
       "      <td>1.407054e+12</td>\n",
       "    </tr>\n",
       "    <tr>\n",
       "      <th>50%</th>\n",
       "      <td>4.337430e+05</td>\n",
       "      <td>2.493100e+04</td>\n",
       "      <td>5.000000e+00</td>\n",
       "      <td>1.453042e+12</td>\n",
       "    </tr>\n",
       "    <tr>\n",
       "      <th>75%</th>\n",
       "      <td>6.512078e+05</td>\n",
       "      <td>4.029700e+04</td>\n",
       "      <td>5.000000e+00</td>\n",
       "      <td>1.523213e+12</td>\n",
       "    </tr>\n",
       "    <tr>\n",
       "      <th>max</th>\n",
       "      <td>8.682170e+05</td>\n",
       "      <td>7.783200e+04</td>\n",
       "      <td>5.000000e+00</td>\n",
       "      <td>1.694398e+12</td>\n",
       "    </tr>\n",
       "  </tbody>\n",
       "</table>\n",
       "</div>"
      ]
     },
     "execution_count": 114,
     "metadata": {},
     "output_type": "execute_result"
    }
   ],
   "execution_count": 114
  },
  {
   "metadata": {
    "ExecuteTime": {
     "end_time": "2025-06-24T19:46:36.452045Z",
     "start_time": "2025-06-24T19:46:36.449842Z"
    }
   },
   "cell_type": "code",
   "source": "amazon_ratings.shape",
   "outputs": [
    {
     "data": {
      "text/plain": [
       "(2543146, 4)"
      ]
     },
     "execution_count": 115,
     "metadata": {},
     "output_type": "execute_result"
    }
   ],
   "execution_count": 115
  },
  {
   "metadata": {
    "ExecuteTime": {
     "end_time": "2025-06-24T19:46:36.577272Z",
     "start_time": "2025-06-24T19:46:36.542439Z"
    }
   },
   "cell_type": "code",
   "source": [
    "popular_products = pd.DataFrame(amazon_ratings.groupby('item_id')['rating'].count())\n",
    "most_popular = popular_products.sort_values('rating', ascending=False)\n",
    "most_popular.head(10)"
   ],
   "outputs": [
    {
     "data": {
      "text/plain": [
       "         rating\n",
       "item_id        \n",
       "20832     28303\n",
       "12595     22787\n",
       "12372     16378\n",
       "6864      15428\n",
       "33154     14792\n",
       "13451     13007\n",
       "7030      12306\n",
       "24931     12188\n",
       "18550     11628\n",
       "12104     11551"
      ],
      "text/html": [
       "<div>\n",
       "<style scoped>\n",
       "    .dataframe tbody tr th:only-of-type {\n",
       "        vertical-align: middle;\n",
       "    }\n",
       "\n",
       "    .dataframe tbody tr th {\n",
       "        vertical-align: top;\n",
       "    }\n",
       "\n",
       "    .dataframe thead th {\n",
       "        text-align: right;\n",
       "    }\n",
       "</style>\n",
       "<table border=\"1\" class=\"dataframe\">\n",
       "  <thead>\n",
       "    <tr style=\"text-align: right;\">\n",
       "      <th></th>\n",
       "      <th>rating</th>\n",
       "    </tr>\n",
       "    <tr>\n",
       "      <th>item_id</th>\n",
       "      <th></th>\n",
       "    </tr>\n",
       "  </thead>\n",
       "  <tbody>\n",
       "    <tr>\n",
       "      <th>20832</th>\n",
       "      <td>28303</td>\n",
       "    </tr>\n",
       "    <tr>\n",
       "      <th>12595</th>\n",
       "      <td>22787</td>\n",
       "    </tr>\n",
       "    <tr>\n",
       "      <th>12372</th>\n",
       "      <td>16378</td>\n",
       "    </tr>\n",
       "    <tr>\n",
       "      <th>6864</th>\n",
       "      <td>15428</td>\n",
       "    </tr>\n",
       "    <tr>\n",
       "      <th>33154</th>\n",
       "      <td>14792</td>\n",
       "    </tr>\n",
       "    <tr>\n",
       "      <th>13451</th>\n",
       "      <td>13007</td>\n",
       "    </tr>\n",
       "    <tr>\n",
       "      <th>7030</th>\n",
       "      <td>12306</td>\n",
       "    </tr>\n",
       "    <tr>\n",
       "      <th>24931</th>\n",
       "      <td>12188</td>\n",
       "    </tr>\n",
       "    <tr>\n",
       "      <th>18550</th>\n",
       "      <td>11628</td>\n",
       "    </tr>\n",
       "    <tr>\n",
       "      <th>12104</th>\n",
       "      <td>11551</td>\n",
       "    </tr>\n",
       "  </tbody>\n",
       "</table>\n",
       "</div>"
      ]
     },
     "execution_count": 116,
     "metadata": {},
     "output_type": "execute_result"
    }
   ],
   "execution_count": 116
  },
  {
   "metadata": {
    "ExecuteTime": {
     "end_time": "2025-06-24T19:46:36.743729Z",
     "start_time": "2025-06-24T19:46:36.629179Z"
    }
   },
   "cell_type": "code",
   "source": "most_popular.head(30).plot(kind = \"bar\")",
   "outputs": [
    {
     "data": {
      "text/plain": [
       "<Axes: xlabel='item_id'>"
      ]
     },
     "execution_count": 117,
     "metadata": {},
     "output_type": "execute_result"
    },
    {
     "data": {
      "text/plain": [
       "<Figure size 640x480 with 1 Axes>"
      ],
      "image/png": "[encoded data removed]"
     },
     "metadata": {},
     "output_type": "display_data"
    }
   ],
   "execution_count": 117
  },
  {
   "metadata": {},
   "cell_type": "markdown",
   "source": "# Part 2"
  },
  {
   "metadata": {
    "ExecuteTime": {
     "end_time": "2025-06-24T20:05:11.435442Z",
     "start_time": "2025-06-24T20:05:11.433337Z"
    }
   },
   "cell_type": "code",
   "source": "amazon_ratings1 = amazon_ratings.head(10000)",
   "outputs": [],
   "execution_count": 153
  },
  {
   "metadata": {
    "ExecuteTime": {
     "end_time": "2025-06-24T20:05:13.445693Z",
     "start_time": "2025-06-24T20:05:13.342785Z"
    }
   },
   "cell_type": "code",
   "source": [
    "ratings_utility_matrix = amazon_ratings1.pivot_table(values='rating', index='user_id', columns='item_id', fill_value=0)\n",
    "ratings_utility_matrix.head()"
   ],
   "outputs": [
    {
     "data": {
      "text/plain": [
       "item_id  39     58     64     104    224    314    448    540    608    668    \\\n",
       "user_id                                                                         \n",
       "0          0.0    0.0    0.0    0.0    0.0    0.0    0.0    0.0    0.0    0.0   \n",
       "1          0.0    0.0    0.0    0.0    0.0    0.0    0.0    0.0    0.0    0.0   \n",
       "2          0.0    0.0    0.0    0.0    0.0    0.0    0.0    0.0    0.0    0.0   \n",
       "3          0.0    0.0    0.0    0.0    0.0    0.0    0.0    0.0    0.0    0.0   \n",
       "4          0.0    0.0    0.0    0.0    0.0    0.0    0.0    0.0    0.0    0.0   \n",
       "\n",
       "item_id  ...  77678  77706  77718  77730  77761  77767  77775  77789  77821  \\\n",
       "user_id  ...                                                                  \n",
       "0        ...    0.0    0.0    0.0    0.0    0.0    0.0    0.0    0.0    0.0   \n",
       "1        ...    0.0    0.0    0.0    0.0    0.0    0.0    0.0    0.0    0.0   \n",
       "2        ...    0.0    0.0    0.0    0.0    0.0    0.0    0.0    0.0    0.0   \n",
       "3        ...    0.0    0.0    0.0    0.0    0.0    0.0    0.0    0.0    0.0   \n",
       "4        ...    0.0    0.0    0.0    0.0    0.0    0.0    0.0    0.0    0.0   \n",
       "\n",
       "item_id  77825  \n",
       "user_id         \n",
       "0          0.0  \n",
       "1          0.0  \n",
       "2          0.0  \n",
       "3          0.0  \n",
       "4          0.0  \n",
       "\n",
       "[5 rows x 4069 columns]"
      ],
      "text/html": [
       "<div>\n",
       "<style scoped>\n",
       "    .dataframe tbody tr th:only-of-type {\n",
       "        vertical-align: middle;\n",
       "    }\n",
       "\n",
       "    .dataframe tbody tr th {\n",
       "        vertical-align: top;\n",
       "    }\n",
       "\n",
       "    .dataframe thead th {\n",
       "        text-align: right;\n",
       "    }\n",
       "</style>\n",
       "<table border=\"1\" class=\"dataframe\">\n",
       "  <thead>\n",
       "    <tr style=\"text-align: right;\">\n",
       "      <th>item_id</th>\n",
       "      <th>39</th>\n",
       "      <th>58</th>\n",
       "      <th>64</th>\n",
       "      <th>104</th>\n",
       "      <th>224</th>\n",
       "      <th>314</th>\n",
       "      <th>448</th>\n",
       "      <th>540</th>\n",
       "      <th>608</th>\n",
       "      <th>668</th>\n",
       "      <th>...</th>\n",
       "      <th>77678</th>\n",
       "      <th>77706</th>\n",
       "      <th>77718</th>\n",
       "      <th>77730</th>\n",
       "      <th>77761</th>\n",
       "      <th>77767</th>\n",
       "      <th>77775</th>\n",
       "      <th>77789</th>\n",
       "      <th>77821</th>\n",
       "      <th>77825</th>\n",
       "    </tr>\n",
       "    <tr>\n",
       "      <th>user_id</th>\n",
       "      <th></th>\n",
       "      <th></th>\n",
       "      <th></th>\n",
       "      <th></th>\n",
       "      <th></th>\n",
       "      <th></th>\n",
       "      <th></th>\n",
       "      <th></th>\n",
       "      <th></th>\n",
       "      <th></th>\n",
       "      <th></th>\n",
       "      <th></th>\n",
       "      <th></th>\n",
       "      <th></th>\n",
       "      <th></th>\n",
       "      <th></th>\n",
       "      <th></th>\n",
       "      <th></th>\n",
       "      <th></th>\n",
       "      <th></th>\n",
       "      <th></th>\n",
       "    </tr>\n",
       "  </thead>\n",
       "  <tbody>\n",
       "    <tr>\n",
       "      <th>0</th>\n",
       "      <td>0.0</td>\n",
       "      <td>0.0</td>\n",
       "      <td>0.0</td>\n",
       "      <td>0.0</td>\n",
       "      <td>0.0</td>\n",
       "      <td>0.0</td>\n",
       "      <td>0.0</td>\n",
       "      <td>0.0</td>\n",
       "      <td>0.0</td>\n",
       "      <td>0.0</td>\n",
       "      <td>...</td>\n",
       "      <td>0.0</td>\n",
       "      <td>0.0</td>\n",
       "      <td>0.0</td>\n",
       "      <td>0.0</td>\n",
       "      <td>0.0</td>\n",
       "      <td>0.0</td>\n",
       "      <td>0.0</td>\n",
       "      <td>0.0</td>\n",
       "      <td>0.0</td>\n",
       "      <td>0.0</td>\n",
       "    </tr>\n",
       "    <tr>\n",
       "      <th>1</th>\n",
       "      <td>0.0</td>\n",
       "      <td>0.0</td>\n",
       "      <td>0.0</td>\n",
       "      <td>0.0</td>\n",
       "      <td>0.0</td>\n",
       "      <td>0.0</td>\n",
       "      <td>0.0</td>\n",
       "      <td>0.0</td>\n",
       "      <td>0.0</td>\n",
       "      <td>0.0</td>\n",
       "      <td>...</td>\n",
       "      <td>0.0</td>\n",
       "      <td>0.0</td>\n",
       "      <td>0.0</td>\n",
       "      <td>0.0</td>\n",
       "      <td>0.0</td>\n",
       "      <td>0.0</td>\n",
       "      <td>0.0</td>\n",
       "      <td>0.0</td>\n",
       "      <td>0.0</td>\n",
       "      <td>0.0</td>\n",
       "    </tr>\n",
       "    <tr>\n",
       "      <th>2</th>\n",
       "      <td>0.0</td>\n",
       "      <td>0.0</td>\n",
       "      <td>0.0</td>\n",
       "      <td>0.0</td>\n",
       "      <td>0.0</td>\n",
       "      <td>0.0</td>\n",
       "      <td>0.0</td>\n",
       "      <td>0.0</td>\n",
       "      <td>0.0</td>\n",
       "      <td>0.0</td>\n",
       "      <td>...</td>\n",
       "      <td>0.0</td>\n",
       "      <td>0.0</td>\n",
       "      <td>0.0</td>\n",
       "      <td>0.0</td>\n",
       "      <td>0.0</td>\n",
       "      <td>0.0</td>\n",
       "      <td>0.0</td>\n",
       "      <td>0.0</td>\n",
       "      <td>0.0</td>\n",
       "      <td>0.0</td>\n",
       "    </tr>\n",
       "    <tr>\n",
       "      <th>3</th>\n",
       "      <td>0.0</td>\n",
       "      <td>0.0</td>\n",
       "      <td>0.0</td>\n",
       "      <td>0.0</td>\n",
       "      <td>0.0</td>\n",
       "      <td>0.0</td>\n",
       "      <td>0.0</td>\n",
       "      <td>0.0</td>\n",
       "      <td>0.0</td>\n",
       "      <td>0.0</td>\n",
       "      <td>...</td>\n",
       "      <td>0.0</td>\n",
       "      <td>0.0</td>\n",
       "      <td>0.0</td>\n",
       "      <td>0.0</td>\n",
       "      <td>0.0</td>\n",
       "      <td>0.0</td>\n",
       "      <td>0.0</td>\n",
       "      <td>0.0</td>\n",
       "      <td>0.0</td>\n",
       "      <td>0.0</td>\n",
       "    </tr>\n",
       "    <tr>\n",
       "      <th>4</th>\n",
       "      <td>0.0</td>\n",
       "      <td>0.0</td>\n",
       "      <td>0.0</td>\n",
       "      <td>0.0</td>\n",
       "      <td>0.0</td>\n",
       "      <td>0.0</td>\n",
       "      <td>0.0</td>\n",
       "      <td>0.0</td>\n",
       "      <td>0.0</td>\n",
       "      <td>0.0</td>\n",
       "      <td>...</td>\n",
       "      <td>0.0</td>\n",
       "      <td>0.0</td>\n",
       "      <td>0.0</td>\n",
       "      <td>0.0</td>\n",
       "      <td>0.0</td>\n",
       "      <td>0.0</td>\n",
       "      <td>0.0</td>\n",
       "      <td>0.0</td>\n",
       "      <td>0.0</td>\n",
       "      <td>0.0</td>\n",
       "    </tr>\n",
       "  </tbody>\n",
       "</table>\n",
       "<p>5 rows × 4069 columns</p>\n",
       "</div>"
      ]
     },
     "execution_count": 154,
     "metadata": {},
     "output_type": "execute_result"
    }
   ],
   "execution_count": 154
  },
  {
   "metadata": {
    "ExecuteTime": {
     "end_time": "2025-06-24T19:46:39.057953Z",
     "start_time": "2025-06-24T19:46:39.055318Z"
    }
   },
   "cell_type": "code",
   "source": "ratings_utility_matrix.shape",
   "outputs": [
    {
     "data": {
      "text/plain": [
       "(16890, 11981)"
      ]
     },
     "execution_count": 120,
     "metadata": {},
     "output_type": "execute_result"
    }
   ],
   "execution_count": 120
  },
  {
   "metadata": {
    "ExecuteTime": {
     "end_time": "2025-06-24T20:05:18.476088Z",
     "start_time": "2025-06-24T20:05:18.464006Z"
    }
   },
   "cell_type": "code",
   "source": [
    "X = ratings_utility_matrix.T\n",
    "X.head()"
   ],
   "outputs": [
    {
     "data": {
      "text/plain": [
       "user_id  0     1     2     3     4     5     6     7     8     9     ...  \\\n",
       "item_id                                                              ...   \n",
       "39        0.0   0.0   0.0   0.0   0.0   0.0   0.0   0.0   0.0   0.0  ...   \n",
       "58        0.0   0.0   0.0   0.0   0.0   0.0   0.0   0.0   0.0   0.0  ...   \n",
       "64        0.0   0.0   0.0   0.0   0.0   0.0   0.0   0.0   0.0   0.0  ...   \n",
       "104       0.0   0.0   0.0   0.0   0.0   0.0   0.0   0.0   0.0   0.0  ...   \n",
       "224       0.0   0.0   0.0   0.0   0.0   0.0   0.0   0.0   0.0   0.0  ...   \n",
       "\n",
       "user_id  3337  3338  3339  3340  3341  3342  3343  3344  3345  3346  \n",
       "item_id                                                              \n",
       "39        0.0   0.0   0.0   0.0   0.0   0.0   0.0   0.0   0.0   0.0  \n",
       "58        0.0   0.0   0.0   0.0   0.0   0.0   0.0   0.0   0.0   0.0  \n",
       "64        0.0   0.0   0.0   0.0   0.0   0.0   0.0   0.0   0.0   0.0  \n",
       "104       0.0   0.0   0.0   0.0   0.0   0.0   0.0   0.0   0.0   0.0  \n",
       "224       0.0   0.0   0.0   0.0   0.0   0.0   0.0   0.0   0.0   0.0  \n",
       "\n",
       "[5 rows x 3347 columns]"
      ],
      "text/html": [
       "<div>\n",
       "<style scoped>\n",
       "    .dataframe tbody tr th:only-of-type {\n",
       "        vertical-align: middle;\n",
       "    }\n",
       "\n",
       "    .dataframe tbody tr th {\n",
       "        vertical-align: top;\n",
       "    }\n",
       "\n",
       "    .dataframe thead th {\n",
       "        text-align: right;\n",
       "    }\n",
       "</style>\n",
       "<table border=\"1\" class=\"dataframe\">\n",
       "  <thead>\n",
       "    <tr style=\"text-align: right;\">\n",
       "      <th>user_id</th>\n",
       "      <th>0</th>\n",
       "      <th>1</th>\n",
       "      <th>2</th>\n",
       "      <th>3</th>\n",
       "      <th>4</th>\n",
       "      <th>5</th>\n",
       "      <th>6</th>\n",
       "      <th>7</th>\n",
       "      <th>8</th>\n",
       "      <th>9</th>\n",
       "      <th>...</th>\n",
       "      <th>3337</th>\n",
       "      <th>3338</th>\n",
       "      <th>3339</th>\n",
       "      <th>3340</th>\n",
       "      <th>3341</th>\n",
       "      <th>3342</th>\n",
       "      <th>3343</th>\n",
       "      <th>3344</th>\n",
       "      <th>3345</th>\n",
       "      <th>3346</th>\n",
       "    </tr>\n",
       "    <tr>\n",
       "      <th>item_id</th>\n",
       "      <th></th>\n",
       "      <th></th>\n",
       "      <th></th>\n",
       "      <th></th>\n",
       "      <th></th>\n",
       "      <th></th>\n",
       "      <th></th>\n",
       "      <th></th>\n",
       "      <th></th>\n",
       "      <th></th>\n",
       "      <th></th>\n",
       "      <th></th>\n",
       "      <th></th>\n",
       "      <th></th>\n",
       "      <th></th>\n",
       "      <th></th>\n",
       "      <th></th>\n",
       "      <th></th>\n",
       "      <th></th>\n",
       "      <th></th>\n",
       "      <th></th>\n",
       "    </tr>\n",
       "  </thead>\n",
       "  <tbody>\n",
       "    <tr>\n",
       "      <th>39</th>\n",
       "      <td>0.0</td>\n",
       "      <td>0.0</td>\n",
       "      <td>0.0</td>\n",
       "      <td>0.0</td>\n",
       "      <td>0.0</td>\n",
       "      <td>0.0</td>\n",
       "      <td>0.0</td>\n",
       "      <td>0.0</td>\n",
       "      <td>0.0</td>\n",
       "      <td>0.0</td>\n",
       "      <td>...</td>\n",
       "      <td>0.0</td>\n",
       "      <td>0.0</td>\n",
       "      <td>0.0</td>\n",
       "      <td>0.0</td>\n",
       "      <td>0.0</td>\n",
       "      <td>0.0</td>\n",
       "      <td>0.0</td>\n",
       "      <td>0.0</td>\n",
       "      <td>0.0</td>\n",
       "      <td>0.0</td>\n",
       "    </tr>\n",
       "    <tr>\n",
       "      <th>58</th>\n",
       "      <td>0.0</td>\n",
       "      <td>0.0</td>\n",
       "      <td>0.0</td>\n",
       "      <td>0.0</td>\n",
       "      <td>0.0</td>\n",
       "      <td>0.0</td>\n",
       "      <td>0.0</td>\n",
       "      <td>0.0</td>\n",
       "      <td>0.0</td>\n",
       "      <td>0.0</td>\n",
       "      <td>...</td>\n",
       "      <td>0.0</td>\n",
       "      <td>0.0</td>\n",
       "      <td>0.0</td>\n",
       "      <td>0.0</td>\n",
       "      <td>0.0</td>\n",
       "      <td>0.0</td>\n",
       "      <td>0.0</td>\n",
       "      <td>0.0</td>\n",
       "      <td>0.0</td>\n",
       "      <td>0.0</td>\n",
       "    </tr>\n",
       "    <tr>\n",
       "      <th>64</th>\n",
       "      <td>0.0</td>\n",
       "      <td>0.0</td>\n",
       "      <td>0.0</td>\n",
       "      <td>0.0</td>\n",
       "      <td>0.0</td>\n",
       "      <td>0.0</td>\n",
       "      <td>0.0</td>\n",
       "      <td>0.0</td>\n",
       "      <td>0.0</td>\n",
       "      <td>0.0</td>\n",
       "      <td>...</td>\n",
       "      <td>0.0</td>\n",
       "      <td>0.0</td>\n",
       "      <td>0.0</td>\n",
       "      <td>0.0</td>\n",
       "      <td>0.0</td>\n",
       "      <td>0.0</td>\n",
       "      <td>0.0</td>\n",
       "      <td>0.0</td>\n",
       "      <td>0.0</td>\n",
       "      <td>0.0</td>\n",
       "    </tr>\n",
       "    <tr>\n",
       "      <th>104</th>\n",
       "      <td>0.0</td>\n",
       "      <td>0.0</td>\n",
       "      <td>0.0</td>\n",
       "      <td>0.0</td>\n",
       "      <td>0.0</td>\n",
       "      <td>0.0</td>\n",
       "      <td>0.0</td>\n",
       "      <td>0.0</td>\n",
       "      <td>0.0</td>\n",
       "      <td>0.0</td>\n",
       "      <td>...</td>\n",
       "      <td>0.0</td>\n",
       "      <td>0.0</td>\n",
       "      <td>0.0</td>\n",
       "      <td>0.0</td>\n",
       "      <td>0.0</td>\n",
       "      <td>0.0</td>\n",
       "      <td>0.0</td>\n",
       "      <td>0.0</td>\n",
       "      <td>0.0</td>\n",
       "      <td>0.0</td>\n",
       "    </tr>\n",
       "    <tr>\n",
       "      <th>224</th>\n",
       "      <td>0.0</td>\n",
       "      <td>0.0</td>\n",
       "      <td>0.0</td>\n",
       "      <td>0.0</td>\n",
       "      <td>0.0</td>\n",
       "      <td>0.0</td>\n",
       "      <td>0.0</td>\n",
       "      <td>0.0</td>\n",
       "      <td>0.0</td>\n",
       "      <td>0.0</td>\n",
       "      <td>...</td>\n",
       "      <td>0.0</td>\n",
       "      <td>0.0</td>\n",
       "      <td>0.0</td>\n",
       "      <td>0.0</td>\n",
       "      <td>0.0</td>\n",
       "      <td>0.0</td>\n",
       "      <td>0.0</td>\n",
       "      <td>0.0</td>\n",
       "      <td>0.0</td>\n",
       "      <td>0.0</td>\n",
       "    </tr>\n",
       "  </tbody>\n",
       "</table>\n",
       "<p>5 rows × 3347 columns</p>\n",
       "</div>"
      ]
     },
     "execution_count": 155,
     "metadata": {},
     "output_type": "execute_result"
    }
   ],
   "execution_count": 155
  },
  {
   "metadata": {
    "ExecuteTime": {
     "end_time": "2025-06-24T19:46:40.536010Z",
     "start_time": "2025-06-24T19:46:40.534138Z"
    }
   },
   "cell_type": "code",
   "source": "X.shape",
   "outputs": [
    {
     "data": {
      "text/plain": [
       "(11981, 16890)"
      ]
     },
     "execution_count": 122,
     "metadata": {},
     "output_type": "execute_result"
    }
   ],
   "execution_count": 122
  },
  {
   "metadata": {
    "ExecuteTime": {
     "end_time": "2025-06-24T19:46:42.032189Z",
     "start_time": "2025-06-24T19:46:42.030511Z"
    }
   },
   "cell_type": "code",
   "source": "X1 = X",
   "outputs": [],
   "execution_count": 123
  },
  {
   "metadata": {
    "ExecuteTime": {
     "end_time": "2025-06-24T19:46:46.973807Z",
     "start_time": "2025-06-24T19:46:44.077225Z"
    }
   },
   "cell_type": "code",
   "source": [
    "SVD = TruncatedSVD(n_components=10)\n",
    "decomposed_matrix = SVD.fit_transform(X)\n",
    "decomposed_matrix.shape"
   ],
   "outputs": [
    {
     "data": {
      "text/plain": [
       "(11981, 10)"
      ]
     },
     "execution_count": 124,
     "metadata": {},
     "output_type": "execute_result"
    }
   ],
   "execution_count": 124
  },
  {
   "metadata": {
    "ExecuteTime": {
     "end_time": "2025-06-24T19:46:47.590593Z",
     "start_time": "2025-06-24T19:46:47.053016Z"
    }
   },
   "cell_type": "code",
   "source": [
    "correlation_matrix = np.corrcoef(decomposed_matrix)\n",
    "correlation_matrix.shape"
   ],
   "outputs": [
    {
     "data": {
      "text/plain": [
       "(11981, 11981)"
      ]
     },
     "execution_count": 125,
     "metadata": {},
     "output_type": "execute_result"
    }
   ],
   "execution_count": 125
  },
  {
   "metadata": {
    "ExecuteTime": {
     "end_time": "2025-06-24T19:46:47.670381Z",
     "start_time": "2025-06-24T19:46:47.668480Z"
    }
   },
   "cell_type": "code",
   "source": "X.index[99]",
   "outputs": [
    {
     "data": {
      "text/plain": [
       "np.int64(1170)"
      ]
     },
     "execution_count": 126,
     "metadata": {},
     "output_type": "execute_result"
    }
   ],
   "execution_count": 126
  },
  {
   "metadata": {
    "ExecuteTime": {
     "end_time": "2025-06-24T19:46:47.716512Z",
     "start_time": "2025-06-24T19:46:47.713361Z"
    }
   },
   "cell_type": "code",
   "source": [
    "i=3703\n",
    "\n",
    "product_names = list(X.index)\n",
    "product_ID = product_names.index(i)\n",
    "product_ID"
   ],
   "outputs": [
    {
     "data": {
      "text/plain": [
       "425"
      ]
     },
     "execution_count": 127,
     "metadata": {},
     "output_type": "execute_result"
    }
   ],
   "execution_count": 127
  },
  {
   "metadata": {
    "ExecuteTime": {
     "end_time": "2025-06-24T19:46:47.763881Z",
     "start_time": "2025-06-24T19:46:47.761407Z"
    }
   },
   "cell_type": "code",
   "source": [
    "correlation_product_ID = correlation_matrix[product_ID]\n",
    "correlation_product_ID.shape"
   ],
   "outputs": [
    {
     "data": {
      "text/plain": [
       "(11981,)"
      ]
     },
     "execution_count": 128,
     "metadata": {},
     "output_type": "execute_result"
    }
   ],
   "execution_count": 128
  },
  {
   "metadata": {
    "ExecuteTime": {
     "end_time": "2025-06-24T19:46:47.832958Z",
     "start_time": "2025-06-24T19:46:47.830459Z"
    }
   },
   "cell_type": "code",
   "source": [
    "Recommend = list(X.index[correlation_product_ID > 0.90])\n",
    "\n",
    "# Removes the item already bought by the customer\n",
    "Recommend.remove(i) \n",
    "\n",
    "Recommend[0:9]"
   ],
   "outputs": [
    {
     "data": {
      "text/plain": [
       "[17037, 27678, 71662]"
      ]
     },
     "execution_count": 129,
     "metadata": {},
     "output_type": "execute_result"
    }
   ],
   "execution_count": 129
  },
  {
   "metadata": {
    "ExecuteTime": {
     "end_time": "2025-06-24T19:46:47.886444Z",
     "start_time": "2025-06-24T19:46:47.880246Z"
    }
   },
   "cell_type": "code",
   "source": [
    "# Part 3: User-Based Recommendation Function\n",
    "# This function combines Part 1 (popularity-based) and Part 2 (collaborative filtering)\n",
    "# to provide personalized recommendations for a given user ID\n",
    "\n",
    "def get_user_recommendations(user_id, num_recommendations=10):\n",
    "    \"\"\"\n",
    "    Recommend top products for a given user ID based on their purchase history\n",
    "    and collaborative filtering techniques.\n",
    "    \n",
    "    Parameters:\n",
    "    user_id (str): The user ID for whom to generate recommendations\n",
    "    num_recommendations (int): Number of recommendations to return (default: 10)\n",
    "    \n",
    "    Returns:\n",
    "    list: Top recommended product IDs\n",
    "    \"\"\"\n",
    "    \n",
    "    # Check if user exists in the dataset\n",
    "    if user_id not in ratings_utility_matrix.index:\n",
    "        # print(f\"User {user_id} not found. Returning popular products for new users...\")\n",
    "        # Fall back to popularity-based recommendations (Part 1)\n",
    "        return most_popular.head(num_recommendations).index.tolist()\n",
    "    \n",
    "    # Get user's purchase history\n",
    "    user_ratings = ratings_utility_matrix.loc[user_id]\n",
    "    purchased_products = user_ratings[user_ratings > 0].index.tolist()\n",
    "    \n",
    "    if len(purchased_products) == 0:\n",
    "        # print(f\"User {user_id} has no purchase history. Returning popular products...\")\n",
    "        return most_popular.head(num_recommendations).index.tolist()\n",
    "    \n",
    "    # print(f\"User {user_id} has purchased {len(purchased_products)} products.\")\n",
    "    # print(f\"Sample purchased products: {purchased_products[:3]}\")\n",
    "\n",
    "    # Get recommendations based on collaborative filtering (Part 2)\n",
    "    recommendation_scores = {}\n",
    "    \n",
    "    for product in purchased_products:\n",
    "        if product in X.index:\n",
    "            # Find the index of the product in correlation matrix\n",
    "            product_idx = list(X.index).index(product)\n",
    "            \n",
    "            # Get correlations for this product\n",
    "            product_correlations = correlation_matrix[product_idx]\n",
    "            \n",
    "            # Add scores for correlated products\n",
    "            for i, correlation in enumerate(product_correlations):\n",
    "                recommended_product = X.index[i]\n",
    "                \n",
    "                # Skip products already purchased\n",
    "                if recommended_product not in purchased_products:\n",
    "                    if recommended_product not in recommendation_scores:\n",
    "                        recommendation_scores[recommended_product] = 0\n",
    "                    recommendation_scores[recommended_product] += correlation\n",
    "    \n",
    "    # Sort recommendations by score\n",
    "    sorted_recommendations = sorted(recommendation_scores.items(), \n",
    "                                  key=lambda x: x[1], \n",
    "                                  reverse=True)\n",
    "    \n",
    "    # Extract top recommendations\n",
    "    top_recommendations = [product for product, score in sorted_recommendations[:num_recommendations]]\n",
    "    \n",
    "    # If we don't have enough recommendations, fill with popular products\n",
    "    if len(top_recommendations) < num_recommendations:\n",
    "        popular_products_list = most_popular.index.tolist()\n",
    "        for product in popular_products_list:\n",
    "            if product not in top_recommendations and product not in purchased_products:\n",
    "                top_recommendations.append(product)\n",
    "                if len(top_recommendations) >= num_recommendations:\n",
    "                    break\n",
    "    \n",
    "    return top_recommendations[:num_recommendations]\n",
    "\n",
    "# Enhanced function with detailed analysis\n",
    "def get_detailed_user_recommendations(user_id, num_recommendations=10):\n",
    "    \"\"\"\n",
    "    Get detailed recommendations with analysis for a given user ID.\n",
    "    \n",
    "    Parameters:\n",
    "    user_id (str): The user ID for whom to generate recommendations\n",
    "    num_recommendations (int): Number of recommendations to return (default: 10)\n",
    "    \n",
    "    Returns:\n",
    "    dict: Dictionary containing recommendations and analysis\n",
    "    \"\"\"\n",
    "    \n",
    "    result = {\n",
    "        'user_id': user_id,\n",
    "        'recommendations': [],\n",
    "        'user_profile': {},\n",
    "        'recommendation_method': ''\n",
    "    }\n",
    "    \n",
    "    # Check if user exists\n",
    "    if user_id not in ratings_utility_matrix.index:\n",
    "        result['recommendation_method'] = 'popularity_based'\n",
    "        result['recommendations'] = most_popular.head(num_recommendations).index.tolist()\n",
    "        result['user_profile'] = {'status': 'new_user', 'purchase_count': 0}\n",
    "        return result\n",
    "    \n",
    "    # Analyze user profile\n",
    "    user_ratings = ratings_utility_matrix.loc[user_id]\n",
    "    purchased_products = user_ratings[user_ratings > 0]\n",
    "    \n",
    "    result['user_profile'] = {\n",
    "        'status': 'existing_user',\n",
    "        'purchase_count': len(purchased_products),\n",
    "        'average_rating': purchased_products.mean(),\n",
    "        'purchased_products': purchased_products.index.tolist()\n",
    "    }\n",
    "    \n",
    "    if len(purchased_products) == 0:\n",
    "        result['recommendation_method'] = 'popularity_based'\n",
    "        result['recommendations'] = most_popular.head(num_recommendations).index.tolist()\n",
    "        return result\n",
    "    \n",
    "    # Collaborative filtering recommendations\n",
    "    result['recommendation_method'] = 'collaborative_filtering'\n",
    "    result['recommendations'] = get_user_recommendations(user_id, num_recommendations)\n",
    "    \n",
    "    return result\n",
    "\n",
    "# Example usage function\n",
    "def demonstrate_recommendations():\n",
    "    \"\"\"\n",
    "    Demonstrate the recommendation system with sample users\n",
    "    \"\"\"\n",
    "    # Get a few sample user IDs from the dataset\n",
    "    sample_users = ratings_utility_matrix.index[:5].tolist()\n",
    "    \n",
    "    print(\"=== Product Recommendation System Demo ===\\n\")\n",
    "    \n",
    "    for user_id in sample_users:\n",
    "        print(f\"Recommendations for User: {user_id}\")\n",
    "        print(\"-\" * 50)\n",
    "        \n",
    "        recommendations = get_detailed_user_recommendations(user_id)\n",
    "        \n",
    "        print(f\"User Status: {recommendations['user_profile']['status']}\")\n",
    "        print(f\"Purchase Count: {recommendations['user_profile']['purchase_count']}\")\n",
    "        print(f\"Recommendation Method: {recommendations['recommendation_method']}\")\n",
    "        print(f\"Top 10 Recommendations: {recommendations['recommendations']}\")\n",
    "        print(\"\\n\")"
   ],
   "outputs": [],
   "execution_count": 130
  },
  {
   "metadata": {
    "ExecuteTime": {
     "end_time": "2025-06-24T19:46:48.002315Z",
     "start_time": "2025-06-24T19:46:47.925633Z"
    }
   },
   "cell_type": "code",
   "source": "get_user_recommendations(3)",
   "outputs": [
    {
     "data": {
      "text/plain": [
       "[np.int64(22991),\n",
       " np.int64(42622),\n",
       " np.int64(38285),\n",
       " np.int64(17979),\n",
       " np.int64(44221),\n",
       " np.int64(8468),\n",
       " np.int64(12539),\n",
       " np.int64(28872),\n",
       " np.int64(29989),\n",
       " np.int64(35976)]"
      ]
     },
     "execution_count": 131,
     "metadata": {},
     "output_type": "execute_result"
    }
   ],
   "execution_count": 131
  },
  {
   "metadata": {
    "ExecuteTime": {
     "end_time": "2025-06-24T19:47:41.476141Z",
     "start_time": "2025-06-24T19:46:48.078828Z"
    }
   },
   "cell_type": "code",
   "source": [
    "test_users = pd.read_csv('../data/test.csv')\n",
    "# fill predictions with results of get_user_recommendations(3)\n",
    "\n",
    "predictions = []\n",
    "\n",
    "for user_id in test_users['user_id'].tolist():\n",
    "    prediction = get_user_recommendations(user_id)\n",
    "    final_prediction = []\n",
    "    for item_id in prediction:\n",
    "        final_prediction.append(int(item_id))\n",
    "    predictions.append(final_prediction)\n",
    "\n",
    "submission = pd.DataFrame({\n",
    "    'user_id': test_users['user_id'].tolist(), \n",
    "    'predictions': [' '.join(map(str, pred)) for pred in predictions]\n",
    "})\n",
    "submission.to_csv(\"submission.csv\", index=False)\n",
    "print(f\"Submission saved: {submission.shape[0]:,} predictions\")\n"
   ],
   "outputs": [
    {
     "ename": "KeyboardInterrupt",
     "evalue": "",
     "output_type": "error",
     "traceback": [
      "\u001B[31m---------------------------------------------------------------------------\u001B[39m",
      "\u001B[31mKeyboardInterrupt\u001B[39m                         Traceback (most recent call last)",
      "\u001B[36mCell\u001B[39m\u001B[36m \u001B[39m\u001B[32mIn[132]\u001B[39m\u001B[32m, line 7\u001B[39m\n\u001B[32m      4\u001B[39m predictions = []\n\u001B[32m      6\u001B[39m \u001B[38;5;28;01mfor\u001B[39;00m user_id \u001B[38;5;129;01min\u001B[39;00m test_users[\u001B[33m'\u001B[39m\u001B[33muser_id\u001B[39m\u001B[33m'\u001B[39m].tolist():\n\u001B[32m----> \u001B[39m\u001B[32m7\u001B[39m     prediction = \u001B[43mget_user_recommendations\u001B[49m\u001B[43m(\u001B[49m\u001B[43muser_id\u001B[49m\u001B[43m)\u001B[49m\n\u001B[32m      8\u001B[39m     final_prediction = []\n\u001B[32m      9\u001B[39m     \u001B[38;5;28;01mfor\u001B[39;00m item_id \u001B[38;5;129;01min\u001B[39;00m prediction:\n",
      "\u001B[36mCell\u001B[39m\u001B[36m \u001B[39m\u001B[32mIn[130]\u001B[39m\u001B[32m, line 54\u001B[39m, in \u001B[36mget_user_recommendations\u001B[39m\u001B[34m(user_id, num_recommendations)\u001B[39m\n\u001B[32m     52\u001B[39m                 \u001B[38;5;28;01mif\u001B[39;00m recommended_product \u001B[38;5;129;01mnot\u001B[39;00m \u001B[38;5;129;01min\u001B[39;00m recommendation_scores:\n\u001B[32m     53\u001B[39m                     recommendation_scores[recommended_product] = \u001B[32m0\u001B[39m\n\u001B[32m---> \u001B[39m\u001B[32m54\u001B[39m                 recommendation_scores[recommended_product] += correlation\n\u001B[32m     56\u001B[39m \u001B[38;5;66;03m# Sort recommendations by score\u001B[39;00m\n\u001B[32m     57\u001B[39m sorted_recommendations = \u001B[38;5;28msorted\u001B[39m(recommendation_scores.items(), \n\u001B[32m     58\u001B[39m                               key=\u001B[38;5;28;01mlambda\u001B[39;00m x: x[\u001B[32m1\u001B[39m], \n\u001B[32m     59\u001B[39m                               reverse=\u001B[38;5;28;01mTrue\u001B[39;00m)\n",
      "\u001B[31mKeyboardInterrupt\u001B[39m: "
     ]
    }
   ],
   "execution_count": 132
  },
  {
   "metadata": {},
   "cell_type": "markdown",
   "source": "# Part 3"
  },
  {
   "metadata": {
    "ExecuteTime": {
     "end_time": "2025-06-24T19:47:46.225547Z",
     "start_time": "2025-06-24T19:47:46.223013Z"
    }
   },
   "cell_type": "code",
   "source": [
    "from sklearn.feature_extraction.text import TfidfVectorizer, CountVectorizer\n",
    "from sklearn.neighbors import NearestNeighbors\n",
    "from sklearn.cluster import KMeans\n",
    "from sklearn.metrics import adjusted_rand_score"
   ],
   "outputs": [],
   "execution_count": 134
  },
  {
   "metadata": {
    "ExecuteTime": {
     "end_time": "2025-06-24T19:47:48.082096Z",
     "start_time": "2025-06-24T19:47:46.612421Z"
    }
   },
   "cell_type": "code",
   "source": [
    "product_descriptions = pd.read_csv('../data/item_metadata_filtered.csv')\n",
    "product_descriptions.shape"
   ],
   "outputs": [
    {
     "data": {
      "text/plain": [
       "(77833, 15)"
      ]
     },
     "execution_count": 135,
     "metadata": {},
     "output_type": "execute_result"
    }
   ],
   "execution_count": 135
  },
  {
   "metadata": {
    "ExecuteTime": {
     "end_time": "2025-06-24T19:47:48.176563Z",
     "start_time": "2025-06-24T19:47:48.111964Z"
    }
   },
   "cell_type": "code",
   "source": [
    "product_descriptions = product_descriptions.dropna()\n",
    "product_descriptions.shape"
   ],
   "outputs": [
    {
     "data": {
      "text/plain": [
       "(48333, 15)"
      ]
     },
     "execution_count": 136,
     "metadata": {},
     "output_type": "execute_result"
    }
   ],
   "execution_count": 136
  },
  {
   "metadata": {
    "ExecuteTime": {
     "end_time": "2025-06-24T19:47:48.240713Z",
     "start_time": "2025-06-24T19:47:48.237744Z"
    }
   },
   "cell_type": "code",
   "source": [
    "product_descriptions1 = product_descriptions.head(500)\n",
    "# product_descriptions1.iloc[:,1]\n",
    "product_descriptions1[\"description\"].head(10)\n"
   ],
   "outputs": [
    {
     "data": {
      "text/plain": [
       "6                                                    []\n",
       "12    ['Your feet go through so much every day and h...\n",
       "16    [\"Clear Essence Specialist Skincare Body Oil i...\n",
       "17    ['African Pride Black Castor Miracle Hold & Co...\n",
       "30                                                   []\n",
       "31                                                   []\n",
       "33    [\"Body Fantasies Signature Vanilla by Parfums ...\n",
       "35    ['MoYo Natural Labs SPRAY BOTTLE 8 OZ HDPE pla...\n",
       "37                                                   []\n",
       "39                                                   []\n",
       "Name: description, dtype: object"
      ]
     },
     "execution_count": 137,
     "metadata": {},
     "output_type": "execute_result"
    }
   ],
   "execution_count": 137
  },
  {
   "metadata": {
    "ExecuteTime": {
     "end_time": "2025-06-24T19:47:48.313426Z",
     "start_time": "2025-06-24T19:47:48.300290Z"
    }
   },
   "cell_type": "code",
   "source": [
    "vectorizer = TfidfVectorizer(stop_words='english')\n",
    "X1 = vectorizer.fit_transform(product_descriptions1[\"description\"])\n",
    "X1"
   ],
   "outputs": [
    {
     "data": {
      "text/plain": [
       "<Compressed Sparse Row sparse matrix of dtype 'float64'\n",
       "\twith 8473 stored elements and shape (500, 3717)>"
      ]
     },
     "execution_count": 138,
     "metadata": {},
     "output_type": "execute_result"
    }
   ],
   "execution_count": 138
  },
  {
   "metadata": {
    "ExecuteTime": {
     "end_time": "2025-06-24T19:47:48.823899Z",
     "start_time": "2025-06-24T19:47:48.421456Z"
    }
   },
   "cell_type": "code",
   "source": [
    "X=X1\n",
    "\n",
    "kmeans = KMeans(n_clusters = 10, init = 'k-means++', max_iter=1000000, n_init=100)\n",
    "y_kmeans = kmeans.fit_predict(X)\n",
    "plt.plot(y_kmeans, \".\")\n",
    "plt.show()"
   ],
   "outputs": [
    {
     "data": {
      "text/plain": [
       "<Figure size 640x480 with 1 Axes>"
      ],
      "image/png": "[encoded data removed]"
     },
     "metadata": {},
     "output_type": "display_data"
    }
   ],
   "execution_count": 139
  },
  {
   "metadata": {
    "ExecuteTime": {
     "end_time": "2025-06-24T19:47:51.645466Z",
     "start_time": "2025-06-24T19:47:48.889014Z"
    }
   },
   "cell_type": "code",
   "source": [
    "# -----------------------------------------------------------\n",
    "# 1.  Vectorise and put every document on the unit sphere\n",
    "# -----------------------------------------------------------\n",
    "from sklearn.feature_extraction.text import TfidfVectorizer\n",
    "from sklearn.preprocessing import normalize\n",
    "from sklearn.decomposition import TruncatedSVD\n",
    "from sklearn.cluster import KMeans\n",
    "from sklearn.metrics import silhouette_score\n",
    "import matplotlib.pyplot as plt\n",
    "import umap.umap_ as umap\n",
    "import numpy as np\n",
    "import pandas as pd      # only for convenience; can omit\n",
    "\n",
    "# ── load / prepare your text column ─────────────────────────\n",
    "texts = product_descriptions1[\"description\"].fillna(\"\").tolist()\n",
    "\n",
    "vec = TfidfVectorizer(stop_words=\"english\", min_df=3)\n",
    "X   = vec.fit_transform(texts)          # sparse (n_samples × n_terms)\n",
    "\n",
    "# L2-normalise so that ||row||₂ = 1  →  cosine ∝ Euclidean\n",
    "X_unit = normalize(X, norm=\"l2\", copy=False)\n",
    "\n",
    "# -----------------------------------------------------------\n",
    "# 2.  Reduce dimensionality with truncated SVD (LSA)\n",
    "# -----------------------------------------------------------\n",
    "svd = TruncatedSVD(n_components=100, random_state=0)\n",
    "X_red = svd.fit_transform(X_unit)       # dense (n_samples × 100)\n",
    "\n",
    "# -----------------------------------------------------------\n",
    "# 3.  Pick the optimal k by silhouette on the reduced space\n",
    "# -----------------------------------------------------------\n",
    "k_range = range(2, 15)\n",
    "sil_scores = []\n",
    "\n",
    "for k in k_range:\n",
    "    km = KMeans(n_clusters=k, init=\"k-means++\", n_init=20, random_state=0)\n",
    "    labels = km.fit_predict(X_red)\n",
    "    sil_scores.append(silhouette_score(X_red, labels))\n",
    "\n",
    "best_k = k_range[int(np.argmax(sil_scores))]\n",
    "print(f\"best k = {best_k}  (silhouette = {max(sil_scores):.3f})\")\n",
    "\n",
    "# -----------------------------------------------------------\n",
    "# 4.  Final K-means with the chosen k\n",
    "# -----------------------------------------------------------\n",
    "kmeans  = KMeans(n_clusters=best_k, init=\"k-means++\", n_init=50, random_state=0)\n",
    "labels  = kmeans.fit_predict(X_red)\n",
    "\n",
    "# optional: renormalise centroids (keeps them on the unit sphere)\n",
    "kmeans.cluster_centers_ = normalize(kmeans.cluster_centers_, norm=\"l2\")\n",
    "\n",
    "# -----------------------------------------------------------\n",
    "# 5.  2-D visualisation with UMAP\n",
    "# -----------------------------------------------------------\n",
    "embedding = umap.UMAP(random_state=0).fit_transform(X_red)\n",
    "plt.scatter(embedding[:, 0], embedding[:, 1], c=labels, s=10)\n",
    "plt.title(f\"K-means (cosine proxy), k = {best_k}\")\n",
    "plt.show()"
   ],
   "outputs": [
    {
     "name": "stdout",
     "output_type": "stream",
     "text": [
      "best k = 13  (silhouette = 0.421)\n"
     ]
    },
    {
     "name": "stderr",
     "output_type": "stream",
     "text": [
      "/home/xowski22/PycharmProjects/Team_4_DSC/.venv/lib/python3.12/site-packages/sklearn/utils/deprecation.py:132: FutureWarning: 'force_all_finite' was renamed to 'ensure_all_finite' in 1.6 and will be removed in 1.8.\n",
      "  warnings.warn(\n",
      "/home/xowski22/PycharmProjects/Team_4_DSC/.venv/lib/python3.12/site-packages/umap/umap_.py:1952: UserWarning: n_jobs value 1 overridden to 1 by setting random_state. Use no seed for parallelism.\n",
      "  warn(\n"
     ]
    },
    {
     "data": {
      "text/plain": [
       "<Figure size 640x480 with 1 Axes>"
      ],
      "image/png": "[encoded data removed]"
     },
     "metadata": {},
     "output_type": "display_data"
    }
   ],
   "execution_count": 140
  },
  {
   "metadata": {
    "ExecuteTime": {
     "end_time": "2025-06-24T19:47:51.678593Z",
     "start_time": "2025-06-24T19:47:51.676242Z"
    }
   },
   "cell_type": "code",
   "source": [
    "def print_cluster(i):\n",
    "    print(\"Cluster %d:\" % i),\n",
    "    for ind in order_centroids[i, :10]:\n",
    "        print(' %s' % terms[ind]),\n",
    "    print"
   ],
   "outputs": [],
   "execution_count": 141
  },
  {
   "metadata": {
    "ExecuteTime": {
     "end_time": "2025-06-24T19:47:54.679908Z",
     "start_time": "2025-06-24T19:47:54.676088Z"
    }
   },
   "cell_type": "code",
   "source": [
    "# # Optimal clusters is \n",
    "\n",
    "true_k = 10\n",
    "\n",
    "# model = KMeans(n_clusters=true_k, init='k-means++', max_iter=100, n_init=10)\n",
    "# model.fit(X1)\n",
    "\n",
    "print(\"Top terms per cluster:\")\n",
    "order_centroids = kmeans.cluster_centers_.argsort()[:, ::-1]\n",
    "terms = vec.get_feature_names_out()\n",
    "for i in range(true_k):\n",
    "    print_cluster(i)"
   ],
   "outputs": [
    {
     "name": "stdout",
     "output_type": "stream",
     "text": [
      "Top terms per cluster:\n",
      "Cluster 0:\n",
      " 150\n",
      " 18\n",
      " 50\n",
      " 15\n",
      " blended\n",
      " added\n",
      " african\n",
      " base\n",
      " assorted\n",
      " aloe\n",
      "Cluster 1:\n",
      " 10\n",
      " 20\n",
      " 35\n",
      " acid\n",
      " alloy\n",
      " 60\n",
      " bar\n",
      " blades\n",
      " 18\n",
      " alcohol\n",
      "Cluster 2:\n",
      " 18\n",
      " 12\n",
      " 40\n",
      " 97\n",
      " alcohol\n",
      " 150\n",
      " acids\n",
      " 28\n",
      " 35\n",
      " 10\n",
      "Cluster 3:\n",
      " 10\n",
      " 100\n",
      " 100ml\n",
      " 14\n",
      " 28\n",
      " 24\n",
      " 150\n",
      " allow\n",
      " applying\n",
      " 97\n",
      "Cluster 4:\n",
      " 14\n",
      " 15\n",
      " 10\n",
      " 40\n",
      " allow\n",
      " 50\n",
      " adhesive\n",
      " applying\n",
      " avoid\n",
      " 25\n",
      "Cluster 5:\n",
      " adults\n",
      " amber\n",
      " 75\n",
      " accessory\n",
      " 25\n",
      " applicator\n",
      " adhesive\n",
      " absorbed\n",
      " 10\n",
      " 28\n",
      "Cluster 6:\n",
      " 24\n",
      " 16\n",
      " 28\n",
      " 15\n",
      " 60\n",
      " acid\n",
      " achieve\n",
      " accessory\n",
      " action\n",
      " 40\n",
      "Cluster 7:\n",
      " 50\n",
      " 18\n",
      " achieve\n",
      " ages\n",
      " 28\n",
      " aging\n",
      " 10\n",
      " 60\n",
      " 30\n",
      " adult\n",
      "Cluster 8:\n",
      " 10\n",
      " 100ml\n",
      " accessory\n",
      " 30\n",
      " 15\n",
      " 100\n",
      " 60\n",
      " 25\n",
      " action\n",
      " accessories\n",
      "Cluster 9:\n",
      " 12\n",
      " 10\n",
      " 14\n",
      " 50\n",
      " 16\n",
      " achieve\n",
      " adhesive\n",
      " add\n",
      " avoid\n",
      " beautiful\n"
     ]
    }
   ],
   "execution_count": 142
  },
  {
   "metadata": {
    "ExecuteTime": {
     "end_time": "2025-06-24T19:47:55.227262Z",
     "start_time": "2025-06-24T19:47:55.224375Z"
    }
   },
   "cell_type": "code",
   "source": [
    "def show_recommendations(product):\n",
    "    #print(\"Cluster ID:\")\n",
    "    Y = vec.transform([product])\n",
    "    Y_unit = normalize(Y, norm=\"l2\", copy=False)\n",
    "    Y_red = svd.transform(Y_unit)\n",
    "\n",
    "    prediction = kmeans.predict(Y_red)\n",
    "    #print(prediction)\n",
    "    print_cluster(prediction[0])"
   ],
   "outputs": [],
   "execution_count": 143
  },
  {
   "metadata": {
    "ExecuteTime": {
     "end_time": "2025-06-24T19:47:59.507355Z",
     "start_time": "2025-06-24T19:47:59.504741Z"
    }
   },
   "cell_type": "code",
   "source": [
    "def print_cluster(i):\n",
    "    print(\"Cluster %d:\" % i),\n",
    "    for ind in order_centroids[i, :10]:\n",
    "        print(' %s' % terms[ind]),\n",
    "    print"
   ],
   "outputs": [],
   "execution_count": 144
  },
  {
   "metadata": {
    "ExecuteTime": {
     "end_time": "2025-06-24T19:47:59.921569Z",
     "start_time": "2025-06-24T19:47:59.918281Z"
    }
   },
   "cell_type": "code",
   "source": "show_recommendations(\"blue whale\")",
   "outputs": [
    {
     "name": "stdout",
     "output_type": "stream",
     "text": [
      "Cluster 11:\n",
      " 10\n",
      " 100ml\n",
      " 14\n",
      " 150\n",
      " absorbed\n",
      " acids\n",
      " added\n",
      " accessories\n",
      " action\n",
      " 30\n"
     ]
    }
   ],
   "execution_count": 145
  },
  {
   "metadata": {
    "ExecuteTime": {
     "end_time": "2025-06-24T19:49:58.869651Z",
     "start_time": "2025-06-24T19:49:58.864307Z"
    }
   },
   "cell_type": "code",
   "source": [
    "def hybrid_cf_popularity(user_id, num_recommendations=10):\n",
    "\n",
    "    collab_recs = get_user_recommendations(user_id, num_recommendations * 2)\n",
    "    popular_recs = most_popular.head(num_recommendations * 2).index.tolist()\n",
    "\n",
    "    recommendation_scores = {}\n",
    "\n",
    "    for i, product in enumerate(collab_recs):\n",
    "        score = (len(collab_recs) - i) / len(collab_recs) * 0.6\n",
    "        recommendation_scores[product] = recommendation_scores.get(product, 0) + score\n",
    "\n",
    "    for i, product in enumerate(popular_recs):\n",
    "        score = (len(popular_recs) - i) / len(popular_recs) * 0.4\n",
    "        recommendation_scores[product] = recommendation_scores.get(product, 0) + score\n",
    "\n",
    "    final_recs = sorted(recommendation_scores.items(), key=lambda x: x[1], reverse=True)\n",
    "    return [product for product, score in final_recs[:num_recommendations]]"
   ],
   "outputs": [],
   "execution_count": 150
  },
  {
   "metadata": {
    "ExecuteTime": {
     "end_time": "2025-06-24T19:57:40.642658Z",
     "start_time": "2025-06-24T19:52:09.945563Z"
    }
   },
   "cell_type": "code",
   "source": [
    "test_users = pd.read_csv('../data/test.csv')\n",
    "predictions = []\n",
    "\n",
    "print(f\"Generating CF+Popularity predictions for {len(test_users)} users...\")\n",
    "\n",
    "for i, user_id in enumerate(test_users['user_id'].tolist()):\n",
    "    hybrid_recs = hybrid_cf_popularity(user_id, 10)\n",
    "\n",
    "    # Convert to integers\n",
    "    final_prediction = []\n",
    "    for item_id in hybrid_recs:\n",
    "        try:\n",
    "            final_prediction.append(int(item_id))\n",
    "        except:\n",
    "            continue\n",
    "\n",
    "    # Fill with popular products if needed\n",
    "    while len(final_prediction) < 10:\n",
    "        for popular_item in most_popular.index:\n",
    "            if int(popular_item) not in final_prediction:\n",
    "                final_prediction.append(int(popular_item))\n",
    "                break\n",
    "\n",
    "    predictions.append(final_prediction[:10])\n",
    "\n",
    "    # # Progress\n",
    "    # if (i + 1) % 250 == 0:\n",
    "    #     print(f\"Progress: {i + 1}/{len(test_users)}\")\n",
    "\n",
    "final_submission = pd.DataFrame({\n",
    "    'user_id': test_users['user_id'].tolist(),\n",
    "    'predictions': [' '.join(map(str, pred)) for pred in predictions]\n",
    "})\n",
    "\n",
    "final_submission.to_csv(\"final_submission.csv\", index=False)\n",
    "print(f\"\\nFinal submission saved!\")\n",
    "print(f\"File: final_submission.csv\")\n",
    "print(f\"Shape: {final_submission.shape}\")"
   ],
   "outputs": [
    {
     "name": "stdout",
     "output_type": "stream",
     "text": [
      "Generating CF+Popularity predictions for 412461 users...\n",
      "\n",
      "Final submission saved!\n",
      "File: final_submission.csv\n",
      "Shape: (412461, 2)\n"
     ]
    }
   ],
   "execution_count": 152
  }
 ],
 "metadata": {
  "kernelspec": {
   "display_name": "base",
   "language": "python",
   "name": "python3"
  },
  "language_info": {
   "codemirror_mode": {
    "name": "ipython",
    "version": 3
   },
   "file_extension": ".py",
   "mimetype": "text/x-python",
   "name": "python",
   "nbconvert_exporter": "python",
   "pygments_lexer": "ipython3",
   "version": "3.10.15"
  }
 },
 "nbformat": 4,
 "nbformat_minor": 2
}
