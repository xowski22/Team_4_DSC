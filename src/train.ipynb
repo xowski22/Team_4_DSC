{
 "cells": [
  {
   "cell_type": "code",
   "execution_count": 2,
   "metadata": {
    "ExecuteTime": {
     "end_time": "2025-06-24T15:54:06.085864Z",
     "start_time": "2025-06-24T15:54:06.083046Z"
    }
   },
   "outputs": [],
   "source": [
    "import numpy as np\n",
    "import pandas as pd\n",
    "import matplotlib.pyplot as plt\n",
    "\n",
    "# %matplotlib inline\n",
    "plt.style.use(\"ggplot\")\n",
    "\n",
    "import sklearn\n",
    "from sklearn.decomposition import TruncatedSVD"
   ]
  },
  {
   "cell_type": "code",
   "execution_count": null,
   "metadata": {
    "ExecuteTime": {
     "end_time": "2025-06-24T15:54:06.481159Z",
     "start_time": "2025-06-24T15:54:06.112014Z"
    }
   },
   "outputs": [],
   "source": [
    "import pandas as pd\n",
    "\n",
    "amazon_ratings = pd.read_csv('../data/train.csv')\n",
    "amazon_ratings = amazon_ratings.dropna()"
   ]
  },
  {
   "cell_type": "code",
   "execution_count": null,
   "metadata": {
    "ExecuteTime": {
     "end_time": "2025-06-24T15:54:06.692619Z",
     "start_time": "2025-06-24T15:54:06.530482Z"
    }
   },
   "outputs": [],
   "source": [
    "amazon_ratings.info()\n",
    "\n",
    "amazon_ratings.describe()"
   ]
  },
  {
   "cell_type": "code",
   "execution_count": null,
   "metadata": {
    "ExecuteTime": {
     "end_time": "2025-06-24T15:54:06.792522Z",
     "start_time": "2025-06-24T15:54:06.790602Z"
    }
   },
   "outputs": [],
   "source": [
    "amazon_ratings.shape"
   ]
  },
  {
   "cell_type": "code",
   "execution_count": null,
   "metadata": {
    "ExecuteTime": {
     "end_time": "2025-06-24T15:54:06.899358Z",
     "start_time": "2025-06-24T15:54:06.846759Z"
    }
   },
   "outputs": [],
   "source": [
    "popular_products = pd.DataFrame(amazon_ratings.groupby('item_id')['rating'].count())\n",
    "most_popular = popular_products.sort_values('rating', ascending=False)\n",
    "most_popular.head(10)"
   ]
  },
  {
   "cell_type": "code",
   "execution_count": null,
   "metadata": {
    "ExecuteTime": {
     "end_time": "2025-06-24T15:54:07.086283Z",
     "start_time": "2025-06-24T15:54:06.971485Z"
    }
   },
   "outputs": [],
   "source": [
    "most_popular.head(30).plot(kind = \"bar\")"
   ]
  },
  {
   "cell_type": "markdown",
   "metadata": {},
   "source": [
    "# Part 2"
   ]
  },
  {
   "cell_type": "code",
   "execution_count": 8,
   "metadata": {
    "ExecuteTime": {
     "end_time": "2025-06-24T15:54:07.137654Z",
     "start_time": "2025-06-24T15:54:07.135994Z"
    }
   },
   "outputs": [],
   "source": [
    "amazon_ratings1 = amazon_ratings.head(10000)"
   ]
  },
  {
   "cell_type": "code",
   "execution_count": null,
   "metadata": {
    "ExecuteTime": {
     "end_time": "2025-06-24T15:54:07.336293Z",
     "start_time": "2025-06-24T15:54:07.200949Z"
    }
   },
   "outputs": [],
   "source": [
    "ratings_utility_matrix = amazon_ratings1.pivot_table(values='rating', index='user_id', columns='item_id', fill_value=0)\n",
    "ratings_utility_matrix.head()"
   ]
  },
  {
   "cell_type": "code",
   "execution_count": null,
   "metadata": {
    "ExecuteTime": {
     "end_time": "2025-06-24T15:54:07.655216Z",
     "start_time": "2025-06-24T15:54:07.653112Z"
    }
   },
   "outputs": [],
   "source": [
    "ratings_utility_matrix.shape"
   ]
  },
  {
   "cell_type": "code",
   "execution_count": null,
   "metadata": {
    "ExecuteTime": {
     "end_time": "2025-06-24T15:54:08.241040Z",
     "start_time": "2025-06-24T15:54:08.231276Z"
    }
   },
   "outputs": [],
   "source": [
    "X = ratings_utility_matrix.T\n",
    "X.head()"
   ]
  },
  {
   "cell_type": "code",
   "execution_count": null,
   "metadata": {
    "ExecuteTime": {
     "end_time": "2025-06-24T15:54:08.703368Z",
     "start_time": "2025-06-24T15:54:08.701068Z"
    }
   },
   "outputs": [],
   "source": [
    "X.shape"
   ]
  },
  {
   "cell_type": "code",
   "execution_count": 13,
   "metadata": {
    "ExecuteTime": {
     "end_time": "2025-06-24T15:54:09.309321Z",
     "start_time": "2025-06-24T15:54:09.307907Z"
    }
   },
   "outputs": [],
   "source": [
    "X1 = X"
   ]
  },
  {
   "cell_type": "code",
   "execution_count": null,
   "metadata": {
    "ExecuteTime": {
     "end_time": "2025-06-24T15:54:10.152965Z",
     "start_time": "2025-06-24T15:54:09.379746Z"
    }
   },
   "outputs": [],
   "source": [
    "SVD = TruncatedSVD(n_components=10)\n",
    "decomposed_matrix = SVD.fit_transform(X)\n",
    "decomposed_matrix.shape"
   ]
  },
  {
   "cell_type": "code",
   "execution_count": null,
   "metadata": {
    "ExecuteTime": {
     "end_time": "2025-06-24T15:54:10.442051Z",
     "start_time": "2025-06-24T15:54:10.352693Z"
    }
   },
   "outputs": [],
   "source": [
    "correlation_matrix = np.corrcoef(decomposed_matrix)\n",
    "correlation_matrix.shape"
   ]
  },
  {
   "cell_type": "code",
   "execution_count": null,
   "metadata": {
    "ExecuteTime": {
     "end_time": "2025-06-24T15:54:10.623634Z",
     "start_time": "2025-06-24T15:54:10.621594Z"
    }
   },
   "outputs": [],
   "source": [
    "X.index[99]"
   ]
  },
  {
   "cell_type": "code",
   "execution_count": null,
   "metadata": {
    "ExecuteTime": {
     "end_time": "2025-06-24T15:54:10.696280Z",
     "start_time": "2025-06-24T15:54:10.693530Z"
    }
   },
   "outputs": [],
   "source": [
    "i=3703\n",
    "\n",
    "product_names = list(X.index)\n",
    "product_ID = product_names.index(i)\n",
    "product_ID"
   ]
  },
  {
   "cell_type": "code",
   "execution_count": null,
   "metadata": {
    "ExecuteTime": {
     "end_time": "2025-06-24T15:54:10.752596Z",
     "start_time": "2025-06-24T15:54:10.750763Z"
    }
   },
   "outputs": [],
   "source": [
    "correlation_product_ID = correlation_matrix[product_ID]\n",
    "correlation_product_ID.shape"
   ]
  },
  {
   "cell_type": "code",
   "execution_count": null,
   "metadata": {
    "ExecuteTime": {
     "end_time": "2025-06-24T15:54:10.802444Z",
     "start_time": "2025-06-24T15:54:10.800040Z"
    }
   },
   "outputs": [],
   "source": [
    "Recommend = list(X.index[correlation_product_ID > 0.90])\n",
    "\n",
    "# Removes the item already bought by the customer\n",
    "Recommend.remove(i) \n",
    "\n",
    "Recommend[0:9]"
   ]
  },
  {
   "cell_type": "code",
   "execution_count": 76,
   "metadata": {
    "ExecuteTime": {
     "end_time": "2025-06-24T15:54:10.859038Z",
     "start_time": "2025-06-24T15:54:10.853246Z"
    }
   },
   "outputs": [],
   "source": [
    "# Part 3: User-Based Recommendation Function\n",
    "# This function combines Part 1 (popularity-based) and Part 2 (collaborative filtering)\n",
    "# to provide personalized recommendations for a given user ID\n",
    "\n",
    "def get_user_recommendations(user_id, num_recommendations=10):\n",
    "    \"\"\"\n",
    "    Recommend top products for a given user ID based on their purchase history\n",
    "    and collaborative filtering techniques.\n",
    "    \n",
    "    Parameters:\n",
    "    user_id (str): The user ID for whom to generate recommendations\n",
    "    num_recommendations (int): Number of recommendations to return (default: 10)\n",
    "    \n",
    "    Returns:\n",
    "    list: Top recommended product IDs\n",
    "    \"\"\"\n",
    "    \n",
    "    # Check if user exists in the dataset\n",
    "    if user_id not in ratings_utility_matrix.index:\n",
    "        print(f\"User {user_id} not found. Returning popular products for new users...\")\n",
    "        # Fall back to popularity-based recommendations (Part 1)\n",
    "        return most_popular.head(num_recommendations).index.tolist()\n",
    "    \n",
    "    # Get user's purchase history\n",
    "    user_ratings = ratings_utility_matrix.loc[user_id]\n",
    "    purchased_products = user_ratings[user_ratings > 0].index.tolist()\n",
    "    \n",
    "    if len(purchased_products) == 0:\n",
    "        print(f\"User {user_id} has no purchase history. Returning popular products...\")\n",
    "        return most_popular.head(num_recommendations).index.tolist()\n",
    "    \n",
    "    print(f\"User {user_id} has purchased {len(purchased_products)} products.\")\n",
    "    print(f\"Sample purchased products: {purchased_products[:3]}\")\n",
    "    \n",
    "    # Get recommendations based on collaborative filtering (Part 2)\n",
    "    recommendation_scores = {}\n",
    "    \n",
    "    for product in purchased_products:\n",
    "        if product in X.index:\n",
    "            # Find the index of the product in correlation matrix\n",
    "            product_idx = list(X.index).index(product)\n",
    "            \n",
    "            # Get correlations for this product\n",
    "            product_correlations = correlation_matrix[product_idx]\n",
    "            \n",
    "            # Add scores for correlated products\n",
    "            for i, correlation in enumerate(product_correlations):\n",
    "                recommended_product = X.index[i]\n",
    "                \n",
    "                # Skip products already purchased\n",
    "                if recommended_product not in purchased_products:\n",
    "                    if recommended_product not in recommendation_scores:\n",
    "                        recommendation_scores[recommended_product] = 0\n",
    "                    recommendation_scores[recommended_product] += correlation\n",
    "    \n",
    "    # Sort recommendations by score\n",
    "    sorted_recommendations = sorted(recommendation_scores.items(), \n",
    "                                  key=lambda x: x[1], \n",
    "                                  reverse=True)\n",
    "    \n",
    "    # Extract top recommendations\n",
    "    top_recommendations = [product for product, score in sorted_recommendations[:num_recommendations]]\n",
    "    \n",
    "    # If we don't have enough recommendations, fill with popular products\n",
    "    if len(top_recommendations) < num_recommendations:\n",
    "        popular_products_list = most_popular.index.tolist()\n",
    "        for product in popular_products_list:\n",
    "            if product not in top_recommendations and product not in purchased_products:\n",
    "                top_recommendations.append(product)\n",
    "                if len(top_recommendations) >= num_recommendations:\n",
    "                    break\n",
    "    \n",
    "    return top_recommendations[:num_recommendations]\n"
   ]
  },
  {
   "cell_type": "code",
   "execution_count": null,
   "metadata": {
    "ExecuteTime": {
     "end_time": "2025-06-24T15:54:10.918999Z",
     "start_time": "2025-06-24T15:54:10.890418Z"
    }
   },
   "outputs": [],
   "source": [
    "get_user_recommendations(3)"
   ]
  },
  {
   "cell_type": "code",
   "execution_count": null,
   "metadata": {
    "ExecuteTime": {
     "end_time": "2025-06-24T15:54:15.475943Z",
     "start_time": "2025-06-24T15:54:10.990758Z"
    }
   },
   "outputs": [],
   "source": [
    "test_users = pd.read_csv('../data/test.csv')\n",
    "# fill predictions with results of get_user_recommendations(3)\n",
    "\n",
    "predictions = []\n",
    "\n",
    "for user_id in test_users['user_id'].tolist():\n",
    "    prediction = get_user_recommendations(user_id)\n",
    "    final_prediction = []\n",
    "    for item_id in prediction:\n",
    "        final_prediction.append(int(item_id))\n",
    "    predictions.append(final_prediction)\n",
    "\n",
    "submission = pd.DataFrame({\n",
    "    'user_id': test_users['user_id'].tolist(), \n",
    "    'predictions': [' '.join(map(str, pred)) for pred in predictions]\n",
    "})\n",
    "submission.to_csv(\"submission.csv\", index=False)\n",
    "print(f\"Submission saved: {submission.shape[0]:,} predictions\")\n"
   ]
  }
 ],
 "metadata": {
  "kernelspec": {
   "display_name": "Python 3",
   "language": "python",
   "name": "python3"
  },
  "language_info": {
   "codemirror_mode": {
    "name": "ipython",
    "version": 3
   },
   "file_extension": ".py",
   "mimetype": "text/x-python",
   "name": "python",
   "nbconvert_exporter": "python",
   "pygments_lexer": "ipython3",
   "version": "3.12.9"
  }
 },
 "nbformat": 4,
 "nbformat_minor": 2
}
